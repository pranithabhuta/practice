{
 "cells": [
  {
   "cell_type": "markdown",
   "metadata": {},
   "source": [
    "# CLustering & PCA Assignment"
   ]
  },
  {
   "cell_type": "code",
   "execution_count": 1,
   "metadata": {},
   "outputs": [],
   "source": [
    "import pandas as pd\n",
    "import numpy as np\n",
    "import matplotlib.pyplot as plt\n",
    "import seaborn as sns\n",
    "%matplotlib inline"
   ]
  },
  {
   "cell_type": "code",
   "execution_count": 2,
   "metadata": {},
   "outputs": [
    {
     "data": {
      "text/html": [
       "<div>\n",
       "<style scoped>\n",
       "    .dataframe tbody tr th:only-of-type {\n",
       "        vertical-align: middle;\n",
       "    }\n",
       "\n",
       "    .dataframe tbody tr th {\n",
       "        vertical-align: top;\n",
       "    }\n",
       "\n",
       "    .dataframe thead th {\n",
       "        text-align: right;\n",
       "    }\n",
       "</style>\n",
       "<table border=\"1\" class=\"dataframe\">\n",
       "  <thead>\n",
       "    <tr style=\"text-align: right;\">\n",
       "      <th></th>\n",
       "      <th>country</th>\n",
       "      <th>child_mort</th>\n",
       "      <th>exports</th>\n",
       "      <th>health</th>\n",
       "      <th>imports</th>\n",
       "      <th>income</th>\n",
       "      <th>inflation</th>\n",
       "      <th>life_expec</th>\n",
       "      <th>total_fer</th>\n",
       "      <th>gdpp</th>\n",
       "    </tr>\n",
       "  </thead>\n",
       "  <tbody>\n",
       "    <tr>\n",
       "      <th>0</th>\n",
       "      <td>Afghanistan</td>\n",
       "      <td>90.2</td>\n",
       "      <td>10.0</td>\n",
       "      <td>7.58</td>\n",
       "      <td>44.9</td>\n",
       "      <td>1610</td>\n",
       "      <td>9.44</td>\n",
       "      <td>56.2</td>\n",
       "      <td>5.82</td>\n",
       "      <td>553</td>\n",
       "    </tr>\n",
       "    <tr>\n",
       "      <th>1</th>\n",
       "      <td>Albania</td>\n",
       "      <td>16.6</td>\n",
       "      <td>28.0</td>\n",
       "      <td>6.55</td>\n",
       "      <td>48.6</td>\n",
       "      <td>9930</td>\n",
       "      <td>4.49</td>\n",
       "      <td>76.3</td>\n",
       "      <td>1.65</td>\n",
       "      <td>4090</td>\n",
       "    </tr>\n",
       "    <tr>\n",
       "      <th>2</th>\n",
       "      <td>Algeria</td>\n",
       "      <td>27.3</td>\n",
       "      <td>38.4</td>\n",
       "      <td>4.17</td>\n",
       "      <td>31.4</td>\n",
       "      <td>12900</td>\n",
       "      <td>16.10</td>\n",
       "      <td>76.5</td>\n",
       "      <td>2.89</td>\n",
       "      <td>4460</td>\n",
       "    </tr>\n",
       "    <tr>\n",
       "      <th>3</th>\n",
       "      <td>Angola</td>\n",
       "      <td>119.0</td>\n",
       "      <td>62.3</td>\n",
       "      <td>2.85</td>\n",
       "      <td>42.9</td>\n",
       "      <td>5900</td>\n",
       "      <td>22.40</td>\n",
       "      <td>60.1</td>\n",
       "      <td>6.16</td>\n",
       "      <td>3530</td>\n",
       "    </tr>\n",
       "    <tr>\n",
       "      <th>4</th>\n",
       "      <td>Antigua and Barbuda</td>\n",
       "      <td>10.3</td>\n",
       "      <td>45.5</td>\n",
       "      <td>6.03</td>\n",
       "      <td>58.9</td>\n",
       "      <td>19100</td>\n",
       "      <td>1.44</td>\n",
       "      <td>76.8</td>\n",
       "      <td>2.13</td>\n",
       "      <td>12200</td>\n",
       "    </tr>\n",
       "  </tbody>\n",
       "</table>\n",
       "</div>"
      ],
      "text/plain": [
       "               country  child_mort  exports  health  imports  income  \\\n",
       "0          Afghanistan        90.2     10.0    7.58     44.9    1610   \n",
       "1              Albania        16.6     28.0    6.55     48.6    9930   \n",
       "2              Algeria        27.3     38.4    4.17     31.4   12900   \n",
       "3               Angola       119.0     62.3    2.85     42.9    5900   \n",
       "4  Antigua and Barbuda        10.3     45.5    6.03     58.9   19100   \n",
       "\n",
       "   inflation  life_expec  total_fer   gdpp  \n",
       "0       9.44        56.2       5.82    553  \n",
       "1       4.49        76.3       1.65   4090  \n",
       "2      16.10        76.5       2.89   4460  \n",
       "3      22.40        60.1       6.16   3530  \n",
       "4       1.44        76.8       2.13  12200  "
      ]
     },
     "execution_count": 2,
     "metadata": {},
     "output_type": "execute_result"
    }
   ],
   "source": [
    "#importing data\n",
    "country=pd.read_csv(\"Country-data.csv\")\n",
    "country.head()"
   ]
  },
  {
   "cell_type": "code",
   "execution_count": 3,
   "metadata": {},
   "outputs": [
    {
     "name": "stdout",
     "output_type": "stream",
     "text": [
      "<class 'pandas.core.frame.DataFrame'>\n",
      "RangeIndex: 167 entries, 0 to 166\n",
      "Data columns (total 10 columns):\n",
      "country       167 non-null object\n",
      "child_mort    167 non-null float64\n",
      "exports       167 non-null float64\n",
      "health        167 non-null float64\n",
      "imports       167 non-null float64\n",
      "income        167 non-null int64\n",
      "inflation     167 non-null float64\n",
      "life_expec    167 non-null float64\n",
      "total_fer     167 non-null float64\n",
      "gdpp          167 non-null int64\n",
      "dtypes: float64(7), int64(2), object(1)\n",
      "memory usage: 13.1+ KB\n"
     ]
    }
   ],
   "source": [
    "#Getting information about the columns\n",
    "country.info()"
   ]
  },
  {
   "cell_type": "code",
   "execution_count": 4,
   "metadata": {},
   "outputs": [
    {
     "data": {
      "text/plain": [
       "country       0.0\n",
       "child_mort    0.0\n",
       "exports       0.0\n",
       "health        0.0\n",
       "imports       0.0\n",
       "income        0.0\n",
       "inflation     0.0\n",
       "life_expec    0.0\n",
       "total_fer     0.0\n",
       "gdpp          0.0\n",
       "dtype: float64"
      ]
     },
     "execution_count": 4,
     "metadata": {},
     "output_type": "execute_result"
    }
   ],
   "source": [
    "#We see there are no null values in any of the column\n",
    "#checking the % of NAs columnwise\n",
    "country.isnull().sum()*100/country.shape[0] "
   ]
  },
  {
   "cell_type": "code",
   "execution_count": 5,
   "metadata": {
    "scrolled": false
   },
   "outputs": [
    {
     "data": {
      "text/html": [
       "<div>\n",
       "<style scoped>\n",
       "    .dataframe tbody tr th:only-of-type {\n",
       "        vertical-align: middle;\n",
       "    }\n",
       "\n",
       "    .dataframe tbody tr th {\n",
       "        vertical-align: top;\n",
       "    }\n",
       "\n",
       "    .dataframe thead th {\n",
       "        text-align: right;\n",
       "    }\n",
       "</style>\n",
       "<table border=\"1\" class=\"dataframe\">\n",
       "  <thead>\n",
       "    <tr style=\"text-align: right;\">\n",
       "      <th></th>\n",
       "      <th>child_mort</th>\n",
       "      <th>exports</th>\n",
       "      <th>health</th>\n",
       "      <th>imports</th>\n",
       "      <th>income</th>\n",
       "      <th>inflation</th>\n",
       "      <th>life_expec</th>\n",
       "      <th>total_fer</th>\n",
       "      <th>gdpp</th>\n",
       "    </tr>\n",
       "  </thead>\n",
       "  <tbody>\n",
       "    <tr>\n",
       "      <th>count</th>\n",
       "      <td>167.000000</td>\n",
       "      <td>167.000000</td>\n",
       "      <td>167.000000</td>\n",
       "      <td>167.000000</td>\n",
       "      <td>167.000000</td>\n",
       "      <td>167.000000</td>\n",
       "      <td>167.000000</td>\n",
       "      <td>167.000000</td>\n",
       "      <td>167.000000</td>\n",
       "    </tr>\n",
       "    <tr>\n",
       "      <th>mean</th>\n",
       "      <td>38.270060</td>\n",
       "      <td>41.108976</td>\n",
       "      <td>6.815689</td>\n",
       "      <td>46.890215</td>\n",
       "      <td>17144.688623</td>\n",
       "      <td>7.781832</td>\n",
       "      <td>70.555689</td>\n",
       "      <td>2.947964</td>\n",
       "      <td>12964.155689</td>\n",
       "    </tr>\n",
       "    <tr>\n",
       "      <th>std</th>\n",
       "      <td>40.328931</td>\n",
       "      <td>27.412010</td>\n",
       "      <td>2.746837</td>\n",
       "      <td>24.209589</td>\n",
       "      <td>19278.067698</td>\n",
       "      <td>10.570704</td>\n",
       "      <td>8.893172</td>\n",
       "      <td>1.513848</td>\n",
       "      <td>18328.704809</td>\n",
       "    </tr>\n",
       "    <tr>\n",
       "      <th>min</th>\n",
       "      <td>2.600000</td>\n",
       "      <td>0.109000</td>\n",
       "      <td>1.810000</td>\n",
       "      <td>0.065900</td>\n",
       "      <td>609.000000</td>\n",
       "      <td>-4.210000</td>\n",
       "      <td>32.100000</td>\n",
       "      <td>1.150000</td>\n",
       "      <td>231.000000</td>\n",
       "    </tr>\n",
       "    <tr>\n",
       "      <th>25%</th>\n",
       "      <td>8.250000</td>\n",
       "      <td>23.800000</td>\n",
       "      <td>4.920000</td>\n",
       "      <td>30.200000</td>\n",
       "      <td>3355.000000</td>\n",
       "      <td>1.810000</td>\n",
       "      <td>65.300000</td>\n",
       "      <td>1.795000</td>\n",
       "      <td>1330.000000</td>\n",
       "    </tr>\n",
       "    <tr>\n",
       "      <th>50%</th>\n",
       "      <td>19.300000</td>\n",
       "      <td>35.000000</td>\n",
       "      <td>6.320000</td>\n",
       "      <td>43.300000</td>\n",
       "      <td>9960.000000</td>\n",
       "      <td>5.390000</td>\n",
       "      <td>73.100000</td>\n",
       "      <td>2.410000</td>\n",
       "      <td>4660.000000</td>\n",
       "    </tr>\n",
       "    <tr>\n",
       "      <th>75%</th>\n",
       "      <td>62.100000</td>\n",
       "      <td>51.350000</td>\n",
       "      <td>8.600000</td>\n",
       "      <td>58.750000</td>\n",
       "      <td>22800.000000</td>\n",
       "      <td>10.750000</td>\n",
       "      <td>76.800000</td>\n",
       "      <td>3.880000</td>\n",
       "      <td>14050.000000</td>\n",
       "    </tr>\n",
       "    <tr>\n",
       "      <th>max</th>\n",
       "      <td>208.000000</td>\n",
       "      <td>200.000000</td>\n",
       "      <td>17.900000</td>\n",
       "      <td>174.000000</td>\n",
       "      <td>125000.000000</td>\n",
       "      <td>104.000000</td>\n",
       "      <td>82.800000</td>\n",
       "      <td>7.490000</td>\n",
       "      <td>105000.000000</td>\n",
       "    </tr>\n",
       "  </tbody>\n",
       "</table>\n",
       "</div>"
      ],
      "text/plain": [
       "       child_mort     exports      health     imports         income  \\\n",
       "count  167.000000  167.000000  167.000000  167.000000     167.000000   \n",
       "mean    38.270060   41.108976    6.815689   46.890215   17144.688623   \n",
       "std     40.328931   27.412010    2.746837   24.209589   19278.067698   \n",
       "min      2.600000    0.109000    1.810000    0.065900     609.000000   \n",
       "25%      8.250000   23.800000    4.920000   30.200000    3355.000000   \n",
       "50%     19.300000   35.000000    6.320000   43.300000    9960.000000   \n",
       "75%     62.100000   51.350000    8.600000   58.750000   22800.000000   \n",
       "max    208.000000  200.000000   17.900000  174.000000  125000.000000   \n",
       "\n",
       "        inflation  life_expec   total_fer           gdpp  \n",
       "count  167.000000  167.000000  167.000000     167.000000  \n",
       "mean     7.781832   70.555689    2.947964   12964.155689  \n",
       "std     10.570704    8.893172    1.513848   18328.704809  \n",
       "min     -4.210000   32.100000    1.150000     231.000000  \n",
       "25%      1.810000   65.300000    1.795000    1330.000000  \n",
       "50%      5.390000   73.100000    2.410000    4660.000000  \n",
       "75%     10.750000   76.800000    3.880000   14050.000000  \n",
       "max    104.000000   82.800000    7.490000  105000.000000  "
      ]
     },
     "execution_count": 5,
     "metadata": {},
     "output_type": "execute_result"
    }
   ],
   "source": [
    "country.describe()"
   ]
  },
  {
   "cell_type": "markdown",
   "metadata": {},
   "source": [
    "We see there are 3 columns(Exports,health and imports) that are expressed as percentages of total GDP which is calculated using the total population. As we do not have the information about the population for each country, we keep the columns as %ages itself."
   ]
  },
  {
   "cell_type": "code",
   "execution_count": 6,
   "metadata": {},
   "outputs": [],
   "source": [
    "#We notice the differnce in the units and ranges of the columns, we will perform scaling to get them all in the same range next"
   ]
  },
  {
   "cell_type": "code",
   "execution_count": 7,
   "metadata": {},
   "outputs": [
    {
     "data": {
      "text/plain": [
       "0            Afghanistan\n",
       "1                Albania\n",
       "2                Algeria\n",
       "3                 Angola\n",
       "4    Antigua and Barbuda\n",
       "Name: country, dtype: object"
      ]
     },
     "execution_count": 7,
     "metadata": {},
     "output_type": "execute_result"
    }
   ],
   "source": [
    "#let us get the remove the list of countries and store it separately\n",
    "country_df=country.copy()\n",
    "y=country.pop(\"country\")\n",
    "y.head()"
   ]
  },
  {
   "cell_type": "markdown",
   "metadata": {},
   "source": [
    "Performing standardization before we proceed with PCA"
   ]
  },
  {
   "cell_type": "code",
   "execution_count": 8,
   "metadata": {},
   "outputs": [],
   "source": [
    "from sklearn.preprocessing import StandardScaler\n",
    "scaler=StandardScaler()"
   ]
  },
  {
   "cell_type": "code",
   "execution_count": 9,
   "metadata": {},
   "outputs": [
    {
     "data": {
      "text/html": [
       "<div>\n",
       "<style scoped>\n",
       "    .dataframe tbody tr th:only-of-type {\n",
       "        vertical-align: middle;\n",
       "    }\n",
       "\n",
       "    .dataframe tbody tr th {\n",
       "        vertical-align: top;\n",
       "    }\n",
       "\n",
       "    .dataframe thead th {\n",
       "        text-align: right;\n",
       "    }\n",
       "</style>\n",
       "<table border=\"1\" class=\"dataframe\">\n",
       "  <thead>\n",
       "    <tr style=\"text-align: right;\">\n",
       "      <th></th>\n",
       "      <th>child_mort</th>\n",
       "      <th>exports</th>\n",
       "      <th>health</th>\n",
       "      <th>imports</th>\n",
       "      <th>income</th>\n",
       "      <th>inflation</th>\n",
       "      <th>life_expec</th>\n",
       "      <th>total_fer</th>\n",
       "      <th>gdpp</th>\n",
       "    </tr>\n",
       "  </thead>\n",
       "  <tbody>\n",
       "    <tr>\n",
       "      <th>0</th>\n",
       "      <td>1.291532</td>\n",
       "      <td>-1.138280</td>\n",
       "      <td>0.279088</td>\n",
       "      <td>-0.082455</td>\n",
       "      <td>-0.808245</td>\n",
       "      <td>0.157336</td>\n",
       "      <td>-1.619092</td>\n",
       "      <td>1.902882</td>\n",
       "      <td>-0.679180</td>\n",
       "    </tr>\n",
       "    <tr>\n",
       "      <th>1</th>\n",
       "      <td>-0.538949</td>\n",
       "      <td>-0.479658</td>\n",
       "      <td>-0.097016</td>\n",
       "      <td>0.070837</td>\n",
       "      <td>-0.375369</td>\n",
       "      <td>-0.312347</td>\n",
       "      <td>0.647866</td>\n",
       "      <td>-0.859973</td>\n",
       "      <td>-0.485623</td>\n",
       "    </tr>\n",
       "    <tr>\n",
       "      <th>2</th>\n",
       "      <td>-0.272833</td>\n",
       "      <td>-0.099122</td>\n",
       "      <td>-0.966073</td>\n",
       "      <td>-0.641762</td>\n",
       "      <td>-0.220844</td>\n",
       "      <td>0.789274</td>\n",
       "      <td>0.670423</td>\n",
       "      <td>-0.038404</td>\n",
       "      <td>-0.465376</td>\n",
       "    </tr>\n",
       "    <tr>\n",
       "      <th>3</th>\n",
       "      <td>2.007808</td>\n",
       "      <td>0.775381</td>\n",
       "      <td>-1.448071</td>\n",
       "      <td>-0.165315</td>\n",
       "      <td>-0.585043</td>\n",
       "      <td>1.387054</td>\n",
       "      <td>-1.179234</td>\n",
       "      <td>2.128151</td>\n",
       "      <td>-0.516268</td>\n",
       "    </tr>\n",
       "    <tr>\n",
       "      <th>4</th>\n",
       "      <td>-0.695634</td>\n",
       "      <td>0.160668</td>\n",
       "      <td>-0.286894</td>\n",
       "      <td>0.497568</td>\n",
       "      <td>0.101732</td>\n",
       "      <td>-0.601749</td>\n",
       "      <td>0.704258</td>\n",
       "      <td>-0.541946</td>\n",
       "      <td>-0.041817</td>\n",
       "    </tr>\n",
       "  </tbody>\n",
       "</table>\n",
       "</div>"
      ],
      "text/plain": [
       "   child_mort   exports    health   imports    income  inflation  life_expec  \\\n",
       "0    1.291532 -1.138280  0.279088 -0.082455 -0.808245   0.157336   -1.619092   \n",
       "1   -0.538949 -0.479658 -0.097016  0.070837 -0.375369  -0.312347    0.647866   \n",
       "2   -0.272833 -0.099122 -0.966073 -0.641762 -0.220844   0.789274    0.670423   \n",
       "3    2.007808  0.775381 -1.448071 -0.165315 -0.585043   1.387054   -1.179234   \n",
       "4   -0.695634  0.160668 -0.286894  0.497568  0.101732  -0.601749    0.704258   \n",
       "\n",
       "   total_fer      gdpp  \n",
       "0   1.902882 -0.679180  \n",
       "1  -0.859973 -0.485623  \n",
       "2  -0.038404 -0.465376  \n",
       "3   2.128151 -0.516268  \n",
       "4  -0.541946 -0.041817  "
      ]
     },
     "execution_count": 9,
     "metadata": {},
     "output_type": "execute_result"
    }
   ],
   "source": [
    "col=country.columns\n",
    "country[col]=scaler.fit_transform(country[col])\n",
    "country.head()"
   ]
  },
  {
   "cell_type": "code",
   "execution_count": 10,
   "metadata": {},
   "outputs": [
    {
     "data": {
      "text/html": [
       "<div>\n",
       "<style scoped>\n",
       "    .dataframe tbody tr th:only-of-type {\n",
       "        vertical-align: middle;\n",
       "    }\n",
       "\n",
       "    .dataframe tbody tr th {\n",
       "        vertical-align: top;\n",
       "    }\n",
       "\n",
       "    .dataframe thead th {\n",
       "        text-align: right;\n",
       "    }\n",
       "</style>\n",
       "<table border=\"1\" class=\"dataframe\">\n",
       "  <thead>\n",
       "    <tr style=\"text-align: right;\">\n",
       "      <th></th>\n",
       "      <th>child_mort</th>\n",
       "      <th>exports</th>\n",
       "      <th>health</th>\n",
       "      <th>imports</th>\n",
       "      <th>income</th>\n",
       "      <th>inflation</th>\n",
       "      <th>life_expec</th>\n",
       "      <th>total_fer</th>\n",
       "      <th>gdpp</th>\n",
       "    </tr>\n",
       "  </thead>\n",
       "  <tbody>\n",
       "    <tr>\n",
       "      <th>count</th>\n",
       "      <td>1.670000e+02</td>\n",
       "      <td>1.670000e+02</td>\n",
       "      <td>1.670000e+02</td>\n",
       "      <td>1.670000e+02</td>\n",
       "      <td>1.670000e+02</td>\n",
       "      <td>1.670000e+02</td>\n",
       "      <td>1.670000e+02</td>\n",
       "      <td>1.670000e+02</td>\n",
       "      <td>1.670000e+02</td>\n",
       "    </tr>\n",
       "    <tr>\n",
       "      <th>mean</th>\n",
       "      <td>-3.722904e-17</td>\n",
       "      <td>2.127373e-16</td>\n",
       "      <td>5.504579e-16</td>\n",
       "      <td>2.765585e-16</td>\n",
       "      <td>-7.977650e-17</td>\n",
       "      <td>1.063687e-16</td>\n",
       "      <td>3.696311e-16</td>\n",
       "      <td>3.044803e-16</td>\n",
       "      <td>5.850277e-17</td>\n",
       "    </tr>\n",
       "    <tr>\n",
       "      <th>std</th>\n",
       "      <td>1.003008e+00</td>\n",
       "      <td>1.003008e+00</td>\n",
       "      <td>1.003008e+00</td>\n",
       "      <td>1.003008e+00</td>\n",
       "      <td>1.003008e+00</td>\n",
       "      <td>1.003008e+00</td>\n",
       "      <td>1.003008e+00</td>\n",
       "      <td>1.003008e+00</td>\n",
       "      <td>1.003008e+00</td>\n",
       "    </tr>\n",
       "    <tr>\n",
       "      <th>min</th>\n",
       "      <td>-8.871383e-01</td>\n",
       "      <td>-1.500192e+00</td>\n",
       "      <td>-1.827827e+00</td>\n",
       "      <td>-1.939940e+00</td>\n",
       "      <td>-8.603259e-01</td>\n",
       "      <td>-1.137852e+00</td>\n",
       "      <td>-4.337186e+00</td>\n",
       "      <td>-1.191250e+00</td>\n",
       "      <td>-6.968005e-01</td>\n",
       "    </tr>\n",
       "    <tr>\n",
       "      <th>25%</th>\n",
       "      <td>-7.466190e-01</td>\n",
       "      <td>-6.333367e-01</td>\n",
       "      <td>-6.922106e-01</td>\n",
       "      <td>-6.914785e-01</td>\n",
       "      <td>-7.174558e-01</td>\n",
       "      <td>-5.666409e-01</td>\n",
       "      <td>-5.927576e-01</td>\n",
       "      <td>-7.639023e-01</td>\n",
       "      <td>-6.366596e-01</td>\n",
       "    </tr>\n",
       "    <tr>\n",
       "      <th>50%</th>\n",
       "      <td>-4.717981e-01</td>\n",
       "      <td>-2.235279e-01</td>\n",
       "      <td>-1.810007e-01</td>\n",
       "      <td>-1.487432e-01</td>\n",
       "      <td>-3.738080e-01</td>\n",
       "      <td>-2.269504e-01</td>\n",
       "      <td>2.869576e-01</td>\n",
       "      <td>-3.564309e-01</td>\n",
       "      <td>-4.544309e-01</td>\n",
       "    </tr>\n",
       "    <tr>\n",
       "      <th>75%</th>\n",
       "      <td>5.926666e-01</td>\n",
       "      <td>3.747198e-01</td>\n",
       "      <td>6.515412e-01</td>\n",
       "      <td>4.913530e-01</td>\n",
       "      <td>2.942370e-01</td>\n",
       "      <td>2.816364e-01</td>\n",
       "      <td>7.042584e-01</td>\n",
       "      <td>6.175252e-01</td>\n",
       "      <td>5.942100e-02</td>\n",
       "    </tr>\n",
       "    <tr>\n",
       "      <th>max</th>\n",
       "      <td>4.221297e+00</td>\n",
       "      <td>5.813835e+00</td>\n",
       "      <td>4.047436e+00</td>\n",
       "      <td>5.266181e+00</td>\n",
       "      <td>5.611542e+00</td>\n",
       "      <td>9.129718e+00</td>\n",
       "      <td>1.380962e+00</td>\n",
       "      <td>3.009349e+00</td>\n",
       "      <td>5.036507e+00</td>\n",
       "    </tr>\n",
       "  </tbody>\n",
       "</table>\n",
       "</div>"
      ],
      "text/plain": [
       "         child_mort       exports        health       imports        income  \\\n",
       "count  1.670000e+02  1.670000e+02  1.670000e+02  1.670000e+02  1.670000e+02   \n",
       "mean  -3.722904e-17  2.127373e-16  5.504579e-16  2.765585e-16 -7.977650e-17   \n",
       "std    1.003008e+00  1.003008e+00  1.003008e+00  1.003008e+00  1.003008e+00   \n",
       "min   -8.871383e-01 -1.500192e+00 -1.827827e+00 -1.939940e+00 -8.603259e-01   \n",
       "25%   -7.466190e-01 -6.333367e-01 -6.922106e-01 -6.914785e-01 -7.174558e-01   \n",
       "50%   -4.717981e-01 -2.235279e-01 -1.810007e-01 -1.487432e-01 -3.738080e-01   \n",
       "75%    5.926666e-01  3.747198e-01  6.515412e-01  4.913530e-01  2.942370e-01   \n",
       "max    4.221297e+00  5.813835e+00  4.047436e+00  5.266181e+00  5.611542e+00   \n",
       "\n",
       "          inflation    life_expec     total_fer          gdpp  \n",
       "count  1.670000e+02  1.670000e+02  1.670000e+02  1.670000e+02  \n",
       "mean   1.063687e-16  3.696311e-16  3.044803e-16  5.850277e-17  \n",
       "std    1.003008e+00  1.003008e+00  1.003008e+00  1.003008e+00  \n",
       "min   -1.137852e+00 -4.337186e+00 -1.191250e+00 -6.968005e-01  \n",
       "25%   -5.666409e-01 -5.927576e-01 -7.639023e-01 -6.366596e-01  \n",
       "50%   -2.269504e-01  2.869576e-01 -3.564309e-01 -4.544309e-01  \n",
       "75%    2.816364e-01  7.042584e-01  6.175252e-01  5.942100e-02  \n",
       "max    9.129718e+00  1.380962e+00  3.009349e+00  5.036507e+00  "
      ]
     },
     "execution_count": 10,
     "metadata": {},
     "output_type": "execute_result"
    }
   ],
   "source": [
    "country.describe()"
   ]
  },
  {
   "cell_type": "code",
   "execution_count": 11,
   "metadata": {},
   "outputs": [],
   "source": [
    "#Scaling is done, we proceed with PCA"
   ]
  },
  {
   "cell_type": "code",
   "execution_count": 12,
   "metadata": {},
   "outputs": [],
   "source": [
    "from sklearn.decomposition import PCA"
   ]
  },
  {
   "cell_type": "code",
   "execution_count": 13,
   "metadata": {},
   "outputs": [],
   "source": [
    "pca = PCA(random_state=50)"
   ]
  },
  {
   "cell_type": "code",
   "execution_count": 14,
   "metadata": {},
   "outputs": [
    {
     "data": {
      "text/plain": [
       "PCA(copy=True, iterated_power='auto', n_components=None, random_state=50,\n",
       "  svd_solver='auto', tol=0.0, whiten=False)"
      ]
     },
     "execution_count": 14,
     "metadata": {},
     "output_type": "execute_result"
    }
   ],
   "source": [
    "pca.fit(country)"
   ]
  },
  {
   "cell_type": "code",
   "execution_count": 15,
   "metadata": {},
   "outputs": [
    {
     "data": {
      "text/plain": [
       "array([[-0.41951945,  0.28389698,  0.15083782,  0.16148244,  0.39844111,\n",
       "        -0.19317293,  0.42583938, -0.40372896,  0.39264482],\n",
       "       [ 0.19288394,  0.61316349, -0.24308678,  0.67182064,  0.02253553,\n",
       "        -0.00840447, -0.22270674,  0.15523311, -0.0460224 ],\n",
       "       [-0.02954353,  0.14476069, -0.59663237, -0.29992674,  0.3015475 ,\n",
       "         0.64251951,  0.11391854,  0.01954925,  0.12297749],\n",
       "       [ 0.37065326,  0.00309102,  0.4618975 , -0.07190746,  0.39215904,\n",
       "         0.15044176, -0.20379723,  0.37830365,  0.53199457],\n",
       "       [-0.16896968,  0.05761584,  0.51800037,  0.25537642, -0.2471496 ,\n",
       "         0.7148691 ,  0.1082198 , -0.13526221, -0.18016662],\n",
       "       [ 0.20062815, -0.05933283,  0.00727646, -0.03003154,  0.16034699,\n",
       "         0.06628537, -0.60112652, -0.75068875,  0.01677876],\n",
       "       [-0.07948854, -0.70730269, -0.24983051,  0.59218953,  0.09556237,\n",
       "         0.10463252,  0.01848639,  0.02882643,  0.24299776],\n",
       "       [-0.68274306, -0.01419742,  0.07249683, -0.02894642,  0.35262369,\n",
       "        -0.01153775, -0.50466425,  0.29335267, -0.24969636],\n",
       "       [ 0.3275418 , -0.12308207,  0.11308797,  0.09903717,  0.61298247,\n",
       "        -0.02523614,  0.29403981, -0.02633585, -0.62564572]])"
      ]
     },
     "execution_count": 15,
     "metadata": {},
     "output_type": "execute_result"
    }
   ],
   "source": [
    "#components\n",
    "pca.components_"
   ]
  },
  {
   "cell_type": "code",
   "execution_count": 16,
   "metadata": {},
   "outputs": [
    {
     "data": {
      "text/plain": [
       "array([0.4595174 , 0.17181626, 0.13004259, 0.11053162, 0.07340211,\n",
       "       0.02484235, 0.0126043 , 0.00981282, 0.00743056])"
      ]
     },
     "execution_count": 16,
     "metadata": {},
     "output_type": "execute_result"
    }
   ],
   "source": [
    "#Looking at the explained variance ratio for each component\n",
    "pca.explained_variance_ratio_"
   ]
  },
  {
   "cell_type": "markdown",
   "metadata": {},
   "source": [
    "We see that 4 components are able to explain 85+  variance, let's plot a scree graph to assermt it"
   ]
  },
  {
   "cell_type": "code",
   "execution_count": 17,
   "metadata": {},
   "outputs": [],
   "source": [
    "#Getting the cummulative sums of the explained variance ratios\n",
    "pca_cum=np.cumsum(pca.explained_variance_ratio_)"
   ]
  },
  {
   "cell_type": "code",
   "execution_count": 18,
   "metadata": {},
   "outputs": [
    {
     "data": {
      "image/png": "[encoded data removed]",
      "text/plain": [
       "<Figure size 864x576 with 1 Axes>"
      ]
     },
     "metadata": {},
     "output_type": "display_data"
    }
   ],
   "source": [
    "#Building scree plot \n",
    "plt.figure(figsize=[12,8])\n",
    "plt.plot(pca_cum)\n",
    "plt.ylabel(\"Cummulative explained variance ratio\")\n",
    "plt.show()"
   ]
  },
  {
   "cell_type": "markdown",
   "metadata": {},
   "source": [
    "Perform PCA with 4 components\n",
    "Incremental PCA is used to make the build faster"
   ]
  },
  {
   "cell_type": "code",
   "execution_count": 19,
   "metadata": {},
   "outputs": [
    {
     "data": {
      "text/plain": [
       "(167, 4)"
      ]
     },
     "execution_count": 19,
     "metadata": {},
     "output_type": "execute_result"
    }
   ],
   "source": [
    "#We can use a PCA function here as dataset is small, but we are using icremental pca here\n",
    "from sklearn.decomposition import IncrementalPCA\n",
    "pca=IncrementalPCA(n_components=4)\n",
    "df_pca=pca.fit_transform(country)\n",
    "df_pca.shape"
   ]
  },
  {
   "cell_type": "markdown",
   "metadata": {},
   "source": [
    "Creating dataframe with the new PCA components and merging them with the orignal column Country"
   ]
  },
  {
   "cell_type": "code",
   "execution_count": 20,
   "metadata": {
    "scrolled": true
   },
   "outputs": [
    {
     "data": {
      "text/html": [
       "<div>\n",
       "<style scoped>\n",
       "    .dataframe tbody tr th:only-of-type {\n",
       "        vertical-align: middle;\n",
       "    }\n",
       "\n",
       "    .dataframe tbody tr th {\n",
       "        vertical-align: top;\n",
       "    }\n",
       "\n",
       "    .dataframe thead th {\n",
       "        text-align: right;\n",
       "    }\n",
       "</style>\n",
       "<table border=\"1\" class=\"dataframe\">\n",
       "  <thead>\n",
       "    <tr style=\"text-align: right;\">\n",
       "      <th></th>\n",
       "      <th>PC1</th>\n",
       "      <th>PC2</th>\n",
       "      <th>PC3</th>\n",
       "      <th>PC4</th>\n",
       "    </tr>\n",
       "  </thead>\n",
       "  <tbody>\n",
       "    <tr>\n",
       "      <th>0</th>\n",
       "      <td>-2.913787</td>\n",
       "      <td>0.088354</td>\n",
       "      <td>0.721003</td>\n",
       "      <td>0.996699</td>\n",
       "    </tr>\n",
       "    <tr>\n",
       "      <th>1</th>\n",
       "      <td>0.429358</td>\n",
       "      <td>-0.587859</td>\n",
       "      <td>0.321052</td>\n",
       "      <td>-1.171193</td>\n",
       "    </tr>\n",
       "    <tr>\n",
       "      <th>2</th>\n",
       "      <td>-0.282988</td>\n",
       "      <td>-0.446657</td>\n",
       "      <td>-1.225135</td>\n",
       "      <td>-0.850127</td>\n",
       "    </tr>\n",
       "    <tr>\n",
       "      <th>3</th>\n",
       "      <td>-2.930969</td>\n",
       "      <td>1.699437</td>\n",
       "      <td>-1.521734</td>\n",
       "      <td>0.875966</td>\n",
       "    </tr>\n",
       "    <tr>\n",
       "      <th>4</th>\n",
       "      <td>1.031988</td>\n",
       "      <td>0.130488</td>\n",
       "      <td>0.192922</td>\n",
       "      <td>-0.844808</td>\n",
       "    </tr>\n",
       "  </tbody>\n",
       "</table>\n",
       "</div>"
      ],
      "text/plain": [
       "        PC1       PC2       PC3       PC4\n",
       "0 -2.913787  0.088354  0.721003  0.996699\n",
       "1  0.429358 -0.587859  0.321052 -1.171193\n",
       "2 -0.282988 -0.446657 -1.225135 -0.850127\n",
       "3 -2.930969  1.699437 -1.521734  0.875966\n",
       "4  1.031988  0.130488  0.192922 -0.844808"
      ]
     },
     "execution_count": 20,
     "metadata": {},
     "output_type": "execute_result"
    }
   ],
   "source": [
    "#Storing the pca transformed variables into a dataframe\n",
    "df_pca = pd.DataFrame(df_pca, columns=[\"PC1\", \"PC2\",\"PC3\",\"PC4\"])\n",
    "df_pca.head()\n",
    "#this has pca components with outliers"
   ]
  },
  {
   "cell_type": "code",
   "execution_count": 21,
   "metadata": {},
   "outputs": [
    {
     "data": {
      "text/html": [
       "<div>\n",
       "<style scoped>\n",
       "    .dataframe tbody tr th:only-of-type {\n",
       "        vertical-align: middle;\n",
       "    }\n",
       "\n",
       "    .dataframe tbody tr th {\n",
       "        vertical-align: top;\n",
       "    }\n",
       "\n",
       "    .dataframe thead th {\n",
       "        text-align: right;\n",
       "    }\n",
       "</style>\n",
       "<table border=\"1\" class=\"dataframe\">\n",
       "  <thead>\n",
       "    <tr style=\"text-align: right;\">\n",
       "      <th></th>\n",
       "      <th>PC1</th>\n",
       "      <th>PC2</th>\n",
       "      <th>PC3</th>\n",
       "      <th>PC4</th>\n",
       "      <th>country</th>\n",
       "    </tr>\n",
       "  </thead>\n",
       "  <tbody>\n",
       "    <tr>\n",
       "      <th>0</th>\n",
       "      <td>-2.913787</td>\n",
       "      <td>0.088354</td>\n",
       "      <td>0.721003</td>\n",
       "      <td>0.996699</td>\n",
       "      <td>Afghanistan</td>\n",
       "    </tr>\n",
       "    <tr>\n",
       "      <th>1</th>\n",
       "      <td>0.429358</td>\n",
       "      <td>-0.587859</td>\n",
       "      <td>0.321052</td>\n",
       "      <td>-1.171193</td>\n",
       "      <td>Albania</td>\n",
       "    </tr>\n",
       "    <tr>\n",
       "      <th>2</th>\n",
       "      <td>-0.282988</td>\n",
       "      <td>-0.446657</td>\n",
       "      <td>-1.225135</td>\n",
       "      <td>-0.850127</td>\n",
       "      <td>Algeria</td>\n",
       "    </tr>\n",
       "    <tr>\n",
       "      <th>3</th>\n",
       "      <td>-2.930969</td>\n",
       "      <td>1.699437</td>\n",
       "      <td>-1.521734</td>\n",
       "      <td>0.875966</td>\n",
       "      <td>Angola</td>\n",
       "    </tr>\n",
       "    <tr>\n",
       "      <th>4</th>\n",
       "      <td>1.031988</td>\n",
       "      <td>0.130488</td>\n",
       "      <td>0.192922</td>\n",
       "      <td>-0.844808</td>\n",
       "      <td>Antigua and Barbuda</td>\n",
       "    </tr>\n",
       "  </tbody>\n",
       "</table>\n",
       "</div>"
      ],
      "text/plain": [
       "        PC1       PC2       PC3       PC4              country\n",
       "0 -2.913787  0.088354  0.721003  0.996699          Afghanistan\n",
       "1  0.429358 -0.587859  0.321052 -1.171193              Albania\n",
       "2 -0.282988 -0.446657 -1.225135 -0.850127              Algeria\n",
       "3 -2.930969  1.699437 -1.521734  0.875966               Angola\n",
       "4  1.031988  0.130488  0.192922 -0.844808  Antigua and Barbuda"
      ]
     },
     "execution_count": 21,
     "metadata": {},
     "output_type": "execute_result"
    }
   ],
   "source": [
    "#Merging them with the countries list we separated earlier\n",
    "df_coun = pd.concat([df_pca, y],axis=1)\n",
    "df_coun.head()"
   ]
  },
  {
   "cell_type": "markdown",
   "metadata": {},
   "source": [
    "### Outlier Analysis"
   ]
  },
  {
   "cell_type": "code",
   "execution_count": 22,
   "metadata": {},
   "outputs": [
    {
     "data": {
      "image/png": "[encoded data removed]",
      "text/plain": [
       "<Figure size 432x288 with 1 Axes>"
      ]
     },
     "metadata": {},
     "output_type": "display_data"
    }
   ],
   "source": [
    "## Let's perform Outlier Analysis with country column included\n",
    "plt.boxplot(df_coun.PC1)\n",
    "Q1 = df_coun.PC1.quantile(0.05)\n",
    "Q3 = df_coun.PC1.quantile(0.95)\n",
    "IQR = Q3 - Q1\n",
    "df_coun = df_coun[(df_coun.PC1 >= Q1) & (df_coun.PC1 <= Q3)]"
   ]
  },
  {
   "cell_type": "code",
   "execution_count": 23,
   "metadata": {},
   "outputs": [
    {
     "data": {
      "image/png": "[encoded data removed]",
      "text/plain": [
       "<Figure size 432x288 with 1 Axes>"
      ]
     },
     "metadata": {},
     "output_type": "display_data"
    }
   ],
   "source": [
    "plt.boxplot(df_coun.PC2)\n",
    "Q1 = df_coun.PC2.quantile(0.05)\n",
    "Q3 = df_coun.PC2.quantile(0.95)\n",
    "IQR = Q3 - Q1\n",
    "df_coun = df_coun[(df_coun.PC2 >= Q1) & (df_coun.PC2 <= Q3)]"
   ]
  },
  {
   "cell_type": "code",
   "execution_count": 24,
   "metadata": {},
   "outputs": [
    {
     "data": {
      "image/png": "[encoded data removed]",
      "text/plain": [
       "<Figure size 432x288 with 1 Axes>"
      ]
     },
     "metadata": {},
     "output_type": "display_data"
    }
   ],
   "source": [
    "plt.boxplot(df_coun.PC3)\n",
    "Q1 = df_coun.PC3.quantile(0.05)\n",
    "Q3 = df_coun.PC3.quantile(0.95)\n",
    "IQR = Q3 - Q1\n",
    "df_coun = df_coun[(df_coun.PC3 >= Q1) & (df_coun.PC3 <= Q3)]"
   ]
  },
  {
   "cell_type": "code",
   "execution_count": 25,
   "metadata": {},
   "outputs": [
    {
     "data": {
      "image/png": "[encoded data removed]",
      "text/plain": [
       "<Figure size 432x288 with 1 Axes>"
      ]
     },
     "metadata": {},
     "output_type": "display_data"
    }
   ],
   "source": [
    "plt.boxplot(df_coun.PC4)\n",
    "Q1 = df_coun.PC4.quantile(0.05)\n",
    "Q3 = df_coun.PC4.quantile(0.95)\n",
    "IQR = Q3 - Q1\n",
    "df_coun = df_coun[(df_coun.PC4 >= Q1) & (df_coun.PC4 <= Q3)]"
   ]
  },
  {
   "cell_type": "code",
   "execution_count": 26,
   "metadata": {},
   "outputs": [
    {
     "data": {
      "text/plain": [
       "(107, 5)"
      ]
     },
     "execution_count": 26,
     "metadata": {},
     "output_type": "execute_result"
    }
   ],
   "source": [
    "df_coun.shape"
   ]
  },
  {
   "cell_type": "code",
   "execution_count": 27,
   "metadata": {},
   "outputs": [
    {
     "data": {
      "text/plain": [
       "<seaborn.axisgrid.PairGrid at 0x13a0d007128>"
      ]
     },
     "execution_count": 27,
     "metadata": {},
     "output_type": "execute_result"
    },
    {
     "data": {
      "image/png": "[encoded data removed]",
      "text/plain": [
       "<Figure size 720x720 with 20 Axes>"
      ]
     },
     "metadata": {},
     "output_type": "display_data"
    }
   ],
   "source": [
    "#scatter plots for PCs\n",
    "sns.pairplot(df_coun)"
   ]
  },
  {
   "cell_type": "markdown",
   "metadata": {},
   "source": [
    "## Let's see if K-Means can be performed using the Hopkins measure"
   ]
  },
  {
   "cell_type": "code",
   "execution_count": 28,
   "metadata": {},
   "outputs": [],
   "source": [
    "from sklearn.neighbors import NearestNeighbors\n",
    "from random import sample\n",
    "from numpy.random import uniform\n",
    "import numpy as np\n",
    "from math import isnan\n",
    " \n",
    "def hopkins(X):\n",
    "    d = X.shape[1]\n",
    "    #d = len(vars) # columns\n",
    "    n = len(X) # rows\n",
    "    m = int(0.1 * n) \n",
    "    nbrs = NearestNeighbors(n_neighbors=1).fit(X.values)\n",
    " \n",
    "    rand_X = sample(range(0, n, 1), m)\n",
    " \n",
    "    ujd = []\n",
    "    wjd = []\n",
    "    for j in range(0, m):\n",
    "        u_dist, _ = nbrs.kneighbors(uniform(np.amin(X,axis=0),np.amax(X,axis=0),d).reshape(1, -1), 2, return_distance=True)\n",
    "        ujd.append(u_dist[0][1])\n",
    "        w_dist, _ = nbrs.kneighbors(X.iloc[rand_X[j]].values.reshape(1, -1), 2, return_distance=True)\n",
    "        wjd.append(w_dist[0][1])\n",
    " \n",
    "    H = sum(ujd) / (sum(ujd) + sum(wjd))\n",
    "    if isnan(H):\n",
    "        print(ujd, wjd)\n",
    "        H = 0\n",
    " \n",
    "    return H"
   ]
  },
  {
   "cell_type": "code",
   "execution_count": 29,
   "metadata": {
    "scrolled": false
   },
   "outputs": [
    {
     "data": {
      "text/plain": [
       "(107, 4)"
      ]
     },
     "execution_count": 29,
     "metadata": {},
     "output_type": "execute_result"
    }
   ],
   "source": [
    "df_pca2=df_coun.drop(['country'],axis=1)\n",
    "df_pca2.head()\n",
    "#now this dataframe has PCA components after outlier treatment\n",
    "df_pca2.shape\n",
    "# df_coun.shape"
   ]
  },
  {
   "cell_type": "code",
   "execution_count": 30,
   "metadata": {
    "scrolled": true
   },
   "outputs": [
    {
     "data": {
      "text/plain": [
       "0.6641264146029944"
      ]
     },
     "execution_count": 30,
     "metadata": {},
     "output_type": "execute_result"
    }
   ],
   "source": [
    "hopkins(df_pca2)"
   ]
  },
  {
   "cell_type": "markdown",
   "metadata": {},
   "source": [
    "As the value is >0.5 we can assume that clustering is possible"
   ]
  },
  {
   "cell_type": "markdown",
   "metadata": {},
   "source": [
    "### K means clustering"
   ]
  },
  {
   "cell_type": "code",
   "execution_count": 31,
   "metadata": {},
   "outputs": [],
   "source": [
    "# importing packages needed for KMeans clustering \n",
    "from sklearn.cluster import KMeans\n",
    "\n",
    "# To perform Hierarchical clustering\n",
    "from scipy.cluster.hierarchy import linkage\n",
    "from scipy.cluster.hierarchy import dendrogram\n",
    "from scipy.cluster.hierarchy import cut_tree"
   ]
  },
  {
   "cell_type": "markdown",
   "metadata": {},
   "source": [
    "Let's find the number of clusters"
   ]
  },
  {
   "cell_type": "code",
   "execution_count": 32,
   "metadata": {},
   "outputs": [],
   "source": [
    "df=df_pca2\n",
    "#First we'll do the silhouette score analysis\n",
    "from sklearn.metrics import silhouette_score\n",
    "ssa = []\n",
    "for k in range(2, 10):\n",
    "    kmeans = KMeans(n_clusters=k).fit(df)\n",
    "    ssa.append([k, silhouette_score(df, kmeans.labels_)])"
   ]
  },
  {
   "cell_type": "code",
   "execution_count": 33,
   "metadata": {},
   "outputs": [
    {
     "data": {
      "image/png": "[encoded data removed]",
      "text/plain": [
       "<Figure size 432x288 with 1 Axes>"
      ]
     },
     "metadata": {},
     "output_type": "display_data"
    }
   ],
   "source": [
    "plt.plot(pd.DataFrame(ssa)[0], pd.DataFrame(ssa)[1]);"
   ]
  },
  {
   "cell_type": "code",
   "execution_count": 34,
   "metadata": {},
   "outputs": [
    {
     "data": {
      "text/plain": [
       "[<matplotlib.lines.Line2D at 0x13a0db237f0>]"
      ]
     },
     "execution_count": 34,
     "metadata": {},
     "output_type": "execute_result"
    },
    {
     "data": {
      "image/png": "[encoded data removed]",
      "text/plain": [
       "<Figure size 432x288 with 1 Axes>"
      ]
     },
     "metadata": {},
     "output_type": "display_data"
    }
   ],
   "source": [
    "#We conclude that 2 seems to be a good number of clusters for K means algorithm\n",
    "#Now let's do the elbow curve method\n",
    "ssd = []\n",
    "for num_clusters in list(range(2,10)):\n",
    "    clus_model = KMeans(n_clusters = num_clusters, max_iter=50)\n",
    "    clus_model.fit(df)\n",
    "    ssd.append(clus_model.inertia_)\n",
    "\n",
    "plt.plot(ssd)"
   ]
  },
  {
   "cell_type": "code",
   "execution_count": 35,
   "metadata": {},
   "outputs": [
    {
     "data": {
      "text/plain": [
       "KMeans(algorithm='auto', copy_x=True, init='k-means++', max_iter=50,\n",
       "    n_clusters=2, n_init=10, n_jobs=1, precompute_distances='auto',\n",
       "    random_state=50, tol=0.0001, verbose=0)"
      ]
     },
     "execution_count": 35,
     "metadata": {},
     "output_type": "execute_result"
    }
   ],
   "source": [
    "#Here also we're seeing a distinct bend at around 2 clusters. Hence it seems a good K to choose.\n",
    "#Let's perform K means using K=2\n",
    "clus_model = KMeans(n_clusters = 2, max_iter=50,random_state = 50)\n",
    "clus_model.fit(df)"
   ]
  },
  {
   "cell_type": "code",
   "execution_count": 36,
   "metadata": {},
   "outputs": [
    {
     "data": {
      "text/html": [
       "<div>\n",
       "<style scoped>\n",
       "    .dataframe tbody tr th:only-of-type {\n",
       "        vertical-align: middle;\n",
       "    }\n",
       "\n",
       "    .dataframe tbody tr th {\n",
       "        vertical-align: top;\n",
       "    }\n",
       "\n",
       "    .dataframe thead th {\n",
       "        text-align: right;\n",
       "    }\n",
       "</style>\n",
       "<table border=\"1\" class=\"dataframe\">\n",
       "  <thead>\n",
       "    <tr style=\"text-align: right;\">\n",
       "      <th></th>\n",
       "      <th>PC1</th>\n",
       "      <th>PC2</th>\n",
       "      <th>PC3</th>\n",
       "      <th>PC4</th>\n",
       "      <th>country</th>\n",
       "      <th>ClusterID</th>\n",
       "    </tr>\n",
       "  </thead>\n",
       "  <tbody>\n",
       "    <tr>\n",
       "      <th>0</th>\n",
       "      <td>-2.913787</td>\n",
       "      <td>0.088354</td>\n",
       "      <td>0.721003</td>\n",
       "      <td>0.996699</td>\n",
       "      <td>Afghanistan</td>\n",
       "      <td>0</td>\n",
       "    </tr>\n",
       "    <tr>\n",
       "      <th>1</th>\n",
       "      <td>0.429358</td>\n",
       "      <td>-0.587859</td>\n",
       "      <td>0.321052</td>\n",
       "      <td>-1.171193</td>\n",
       "      <td>Albania</td>\n",
       "      <td>1</td>\n",
       "    </tr>\n",
       "    <tr>\n",
       "      <th>2</th>\n",
       "      <td>-0.282988</td>\n",
       "      <td>-0.446657</td>\n",
       "      <td>-1.225135</td>\n",
       "      <td>-0.850127</td>\n",
       "      <td>Algeria</td>\n",
       "      <td>0</td>\n",
       "    </tr>\n",
       "    <tr>\n",
       "      <th>3</th>\n",
       "      <td>1.031988</td>\n",
       "      <td>0.130488</td>\n",
       "      <td>0.192922</td>\n",
       "      <td>-0.844808</td>\n",
       "      <td>Antigua and Barbuda</td>\n",
       "      <td>1</td>\n",
       "    </tr>\n",
       "    <tr>\n",
       "      <th>4</th>\n",
       "      <td>0.028470</td>\n",
       "      <td>-1.756721</td>\n",
       "      <td>-0.793520</td>\n",
       "      <td>-0.052486</td>\n",
       "      <td>Argentina</td>\n",
       "      <td>1</td>\n",
       "    </tr>\n",
       "    <tr>\n",
       "      <th>5</th>\n",
       "      <td>-0.180006</td>\n",
       "      <td>-0.393752</td>\n",
       "      <td>-0.864255</td>\n",
       "      <td>-0.426657</td>\n",
       "      <td>Azerbaijan</td>\n",
       "      <td>1</td>\n",
       "    </tr>\n",
       "    <tr>\n",
       "      <th>6</th>\n",
       "      <td>1.266074</td>\n",
       "      <td>-0.665088</td>\n",
       "      <td>0.453533</td>\n",
       "      <td>0.059479</td>\n",
       "      <td>Bahamas</td>\n",
       "      <td>1</td>\n",
       "    </tr>\n",
       "    <tr>\n",
       "      <th>7</th>\n",
       "      <td>1.670737</td>\n",
       "      <td>0.560394</td>\n",
       "      <td>-1.020168</td>\n",
       "      <td>-0.178515</td>\n",
       "      <td>Bahrain</td>\n",
       "      <td>1</td>\n",
       "    </tr>\n",
       "    <tr>\n",
       "      <th>8</th>\n",
       "      <td>-1.127417</td>\n",
       "      <td>-0.968982</td>\n",
       "      <td>-0.611645</td>\n",
       "      <td>-1.163111</td>\n",
       "      <td>Bangladesh</td>\n",
       "      <td>0</td>\n",
       "    </tr>\n",
       "    <tr>\n",
       "      <th>9</th>\n",
       "      <td>1.080093</td>\n",
       "      <td>-0.486679</td>\n",
       "      <td>0.649528</td>\n",
       "      <td>-0.533559</td>\n",
       "      <td>Barbados</td>\n",
       "      <td>1</td>\n",
       "    </tr>\n",
       "  </tbody>\n",
       "</table>\n",
       "</div>"
      ],
      "text/plain": [
       "        PC1       PC2       PC3       PC4              country  ClusterID\n",
       "0 -2.913787  0.088354  0.721003  0.996699          Afghanistan          0\n",
       "1  0.429358 -0.587859  0.321052 -1.171193              Albania          1\n",
       "2 -0.282988 -0.446657 -1.225135 -0.850127              Algeria          0\n",
       "3  1.031988  0.130488  0.192922 -0.844808  Antigua and Barbuda          1\n",
       "4  0.028470 -1.756721 -0.793520 -0.052486            Argentina          1\n",
       "5 -0.180006 -0.393752 -0.864255 -0.426657           Azerbaijan          1\n",
       "6  1.266074 -0.665088  0.453533  0.059479              Bahamas          1\n",
       "7  1.670737  0.560394 -1.020168 -0.178515              Bahrain          1\n",
       "8 -1.127417 -0.968982 -0.611645 -1.163111           Bangladesh          0\n",
       "9  1.080093 -0.486679  0.649528 -0.533559             Barbados          1"
      ]
     },
     "execution_count": 36,
     "metadata": {},
     "output_type": "execute_result"
    }
   ],
   "source": [
    "#Since df_coun was treated for outliers it has some missing indexes, which will cause problems while merging so let's fix that\n",
    "df1=df_coun\n",
    "df1.index = pd.RangeIndex(len(df1.index))\n",
    "#Let's assign the cluster labels to this dataframe\n",
    "km_df = pd.concat([df1, pd.Series(clus_model.labels_)],axis=1)\n",
    "km_df.columns = ['PC1', 'PC2','PC3','PC4','country','ClusterID']\n",
    "km_df.head(10)"
   ]
  },
  {
   "cell_type": "code",
   "execution_count": 37,
   "metadata": {},
   "outputs": [
    {
     "data": {
      "text/plain": [
       "(107, 6)"
      ]
     },
     "execution_count": 37,
     "metadata": {},
     "output_type": "execute_result"
    }
   ],
   "source": [
    "km_df.shape"
   ]
  },
  {
   "cell_type": "code",
   "execution_count": 38,
   "metadata": {
    "scrolled": false
   },
   "outputs": [
    {
     "data": {
      "text/plain": [
       "1    58\n",
       "0    49\n",
       "Name: ClusterID, dtype: int64"
      ]
     },
     "execution_count": 38,
     "metadata": {},
     "output_type": "execute_result"
    }
   ],
   "source": [
    "km_df.ClusterID.value_counts()"
   ]
  },
  {
   "cell_type": "markdown",
   "metadata": {},
   "source": [
    "Visualization of the clusters formed on PC variables"
   ]
  },
  {
   "cell_type": "code",
   "execution_count": 39,
   "metadata": {
    "scrolled": true
   },
   "outputs": [
    {
     "data": {
      "text/plain": [
       "<matplotlib.axes._subplots.AxesSubplot at 0x13a0db5d160>"
      ]
     },
     "execution_count": 39,
     "metadata": {},
     "output_type": "execute_result"
    },
    {
     "data": {
      "image/png": "[encoded data removed]",
      "text/plain": [
       "<Figure size 432x288 with 1 Axes>"
      ]
     },
     "metadata": {},
     "output_type": "display_data"
    }
   ],
   "source": [
    "sns.scatterplot(x='PC1',y='PC2',hue='ClusterID',legend='full',data=km_df)"
   ]
  },
  {
   "cell_type": "markdown",
   "metadata": {},
   "source": [
    "We can clearly see the 2 distinct clusters being formed"
   ]
  },
  {
   "cell_type": "markdown",
   "metadata": {},
   "source": [
    "Let us merge this dataframe with our original dataframe on column country"
   ]
  },
  {
   "cell_type": "code",
   "execution_count": 40,
   "metadata": {},
   "outputs": [
    {
     "data": {
      "text/html": [
       "<div>\n",
       "<style scoped>\n",
       "    .dataframe tbody tr th:only-of-type {\n",
       "        vertical-align: middle;\n",
       "    }\n",
       "\n",
       "    .dataframe tbody tr th {\n",
       "        vertical-align: top;\n",
       "    }\n",
       "\n",
       "    .dataframe thead th {\n",
       "        text-align: right;\n",
       "    }\n",
       "</style>\n",
       "<table border=\"1\" class=\"dataframe\">\n",
       "  <thead>\n",
       "    <tr style=\"text-align: right;\">\n",
       "      <th></th>\n",
       "      <th>country</th>\n",
       "      <th>child_mort</th>\n",
       "      <th>exports</th>\n",
       "      <th>health</th>\n",
       "      <th>imports</th>\n",
       "      <th>income</th>\n",
       "      <th>inflation</th>\n",
       "      <th>life_expec</th>\n",
       "      <th>total_fer</th>\n",
       "      <th>gdpp</th>\n",
       "    </tr>\n",
       "  </thead>\n",
       "  <tbody>\n",
       "    <tr>\n",
       "      <th>0</th>\n",
       "      <td>Afghanistan</td>\n",
       "      <td>90.2</td>\n",
       "      <td>10.0</td>\n",
       "      <td>7.58</td>\n",
       "      <td>44.9</td>\n",
       "      <td>1610</td>\n",
       "      <td>9.44</td>\n",
       "      <td>56.2</td>\n",
       "      <td>5.82</td>\n",
       "      <td>553</td>\n",
       "    </tr>\n",
       "    <tr>\n",
       "      <th>1</th>\n",
       "      <td>Albania</td>\n",
       "      <td>16.6</td>\n",
       "      <td>28.0</td>\n",
       "      <td>6.55</td>\n",
       "      <td>48.6</td>\n",
       "      <td>9930</td>\n",
       "      <td>4.49</td>\n",
       "      <td>76.3</td>\n",
       "      <td>1.65</td>\n",
       "      <td>4090</td>\n",
       "    </tr>\n",
       "    <tr>\n",
       "      <th>2</th>\n",
       "      <td>Algeria</td>\n",
       "      <td>27.3</td>\n",
       "      <td>38.4</td>\n",
       "      <td>4.17</td>\n",
       "      <td>31.4</td>\n",
       "      <td>12900</td>\n",
       "      <td>16.10</td>\n",
       "      <td>76.5</td>\n",
       "      <td>2.89</td>\n",
       "      <td>4460</td>\n",
       "    </tr>\n",
       "    <tr>\n",
       "      <th>3</th>\n",
       "      <td>Angola</td>\n",
       "      <td>119.0</td>\n",
       "      <td>62.3</td>\n",
       "      <td>2.85</td>\n",
       "      <td>42.9</td>\n",
       "      <td>5900</td>\n",
       "      <td>22.40</td>\n",
       "      <td>60.1</td>\n",
       "      <td>6.16</td>\n",
       "      <td>3530</td>\n",
       "    </tr>\n",
       "    <tr>\n",
       "      <th>4</th>\n",
       "      <td>Antigua and Barbuda</td>\n",
       "      <td>10.3</td>\n",
       "      <td>45.5</td>\n",
       "      <td>6.03</td>\n",
       "      <td>58.9</td>\n",
       "      <td>19100</td>\n",
       "      <td>1.44</td>\n",
       "      <td>76.8</td>\n",
       "      <td>2.13</td>\n",
       "      <td>12200</td>\n",
       "    </tr>\n",
       "  </tbody>\n",
       "</table>\n",
       "</div>"
      ],
      "text/plain": [
       "               country  child_mort  exports  health  imports  income  \\\n",
       "0          Afghanistan        90.2     10.0    7.58     44.9    1610   \n",
       "1              Albania        16.6     28.0    6.55     48.6    9930   \n",
       "2              Algeria        27.3     38.4    4.17     31.4   12900   \n",
       "3               Angola       119.0     62.3    2.85     42.9    5900   \n",
       "4  Antigua and Barbuda        10.3     45.5    6.03     58.9   19100   \n",
       "\n",
       "   inflation  life_expec  total_fer   gdpp  \n",
       "0       9.44        56.2       5.82    553  \n",
       "1       4.49        76.3       1.65   4090  \n",
       "2      16.10        76.5       2.89   4460  \n",
       "3      22.40        60.1       6.16   3530  \n",
       "4       1.44        76.8       2.13  12200  "
      ]
     },
     "execution_count": 40,
     "metadata": {},
     "output_type": "execute_result"
    }
   ],
   "source": [
    "country_df.head()\n",
    "#original dataframe"
   ]
  },
  {
   "cell_type": "code",
   "execution_count": 41,
   "metadata": {},
   "outputs": [
    {
     "data": {
      "text/html": [
       "<div>\n",
       "<style scoped>\n",
       "    .dataframe tbody tr th:only-of-type {\n",
       "        vertical-align: middle;\n",
       "    }\n",
       "\n",
       "    .dataframe tbody tr th {\n",
       "        vertical-align: top;\n",
       "    }\n",
       "\n",
       "    .dataframe thead th {\n",
       "        text-align: right;\n",
       "    }\n",
       "</style>\n",
       "<table border=\"1\" class=\"dataframe\">\n",
       "  <thead>\n",
       "    <tr style=\"text-align: right;\">\n",
       "      <th></th>\n",
       "      <th>PC1</th>\n",
       "      <th>PC2</th>\n",
       "      <th>PC3</th>\n",
       "      <th>PC4</th>\n",
       "      <th>country</th>\n",
       "      <th>ClusterID</th>\n",
       "      <th>child_mort</th>\n",
       "      <th>exports</th>\n",
       "      <th>health</th>\n",
       "      <th>imports</th>\n",
       "      <th>income</th>\n",
       "      <th>inflation</th>\n",
       "      <th>life_expec</th>\n",
       "      <th>total_fer</th>\n",
       "      <th>gdpp</th>\n",
       "    </tr>\n",
       "  </thead>\n",
       "  <tbody>\n",
       "    <tr>\n",
       "      <th>0</th>\n",
       "      <td>-2.913787</td>\n",
       "      <td>0.088354</td>\n",
       "      <td>0.721003</td>\n",
       "      <td>0.996699</td>\n",
       "      <td>Afghanistan</td>\n",
       "      <td>0</td>\n",
       "      <td>90.2</td>\n",
       "      <td>10.0</td>\n",
       "      <td>7.58</td>\n",
       "      <td>44.9</td>\n",
       "      <td>1610</td>\n",
       "      <td>9.44</td>\n",
       "      <td>56.2</td>\n",
       "      <td>5.82</td>\n",
       "      <td>553</td>\n",
       "    </tr>\n",
       "    <tr>\n",
       "      <th>1</th>\n",
       "      <td>0.429358</td>\n",
       "      <td>-0.587859</td>\n",
       "      <td>0.321052</td>\n",
       "      <td>-1.171193</td>\n",
       "      <td>Albania</td>\n",
       "      <td>1</td>\n",
       "      <td>16.6</td>\n",
       "      <td>28.0</td>\n",
       "      <td>6.55</td>\n",
       "      <td>48.6</td>\n",
       "      <td>9930</td>\n",
       "      <td>4.49</td>\n",
       "      <td>76.3</td>\n",
       "      <td>1.65</td>\n",
       "      <td>4090</td>\n",
       "    </tr>\n",
       "    <tr>\n",
       "      <th>2</th>\n",
       "      <td>-0.282988</td>\n",
       "      <td>-0.446657</td>\n",
       "      <td>-1.225135</td>\n",
       "      <td>-0.850127</td>\n",
       "      <td>Algeria</td>\n",
       "      <td>0</td>\n",
       "      <td>27.3</td>\n",
       "      <td>38.4</td>\n",
       "      <td>4.17</td>\n",
       "      <td>31.4</td>\n",
       "      <td>12900</td>\n",
       "      <td>16.10</td>\n",
       "      <td>76.5</td>\n",
       "      <td>2.89</td>\n",
       "      <td>4460</td>\n",
       "    </tr>\n",
       "    <tr>\n",
       "      <th>3</th>\n",
       "      <td>1.031988</td>\n",
       "      <td>0.130488</td>\n",
       "      <td>0.192922</td>\n",
       "      <td>-0.844808</td>\n",
       "      <td>Antigua and Barbuda</td>\n",
       "      <td>1</td>\n",
       "      <td>10.3</td>\n",
       "      <td>45.5</td>\n",
       "      <td>6.03</td>\n",
       "      <td>58.9</td>\n",
       "      <td>19100</td>\n",
       "      <td>1.44</td>\n",
       "      <td>76.8</td>\n",
       "      <td>2.13</td>\n",
       "      <td>12200</td>\n",
       "    </tr>\n",
       "    <tr>\n",
       "      <th>4</th>\n",
       "      <td>0.028470</td>\n",
       "      <td>-1.756721</td>\n",
       "      <td>-0.793520</td>\n",
       "      <td>-0.052486</td>\n",
       "      <td>Argentina</td>\n",
       "      <td>1</td>\n",
       "      <td>14.5</td>\n",
       "      <td>18.9</td>\n",
       "      <td>8.10</td>\n",
       "      <td>16.0</td>\n",
       "      <td>18700</td>\n",
       "      <td>20.90</td>\n",
       "      <td>75.8</td>\n",
       "      <td>2.37</td>\n",
       "      <td>10300</td>\n",
       "    </tr>\n",
       "  </tbody>\n",
       "</table>\n",
       "</div>"
      ],
      "text/plain": [
       "        PC1       PC2       PC3       PC4              country  ClusterID  \\\n",
       "0 -2.913787  0.088354  0.721003  0.996699          Afghanistan          0   \n",
       "1  0.429358 -0.587859  0.321052 -1.171193              Albania          1   \n",
       "2 -0.282988 -0.446657 -1.225135 -0.850127              Algeria          0   \n",
       "3  1.031988  0.130488  0.192922 -0.844808  Antigua and Barbuda          1   \n",
       "4  0.028470 -1.756721 -0.793520 -0.052486            Argentina          1   \n",
       "\n",
       "   child_mort  exports  health  imports  income  inflation  life_expec  \\\n",
       "0        90.2     10.0    7.58     44.9    1610       9.44        56.2   \n",
       "1        16.6     28.0    6.55     48.6    9930       4.49        76.3   \n",
       "2        27.3     38.4    4.17     31.4   12900      16.10        76.5   \n",
       "3        10.3     45.5    6.03     58.9   19100       1.44        76.8   \n",
       "4        14.5     18.9    8.10     16.0   18700      20.90        75.8   \n",
       "\n",
       "   total_fer   gdpp  \n",
       "0       5.82    553  \n",
       "1       1.65   4090  \n",
       "2       2.89   4460  \n",
       "3       2.13  12200  \n",
       "4       2.37  10300  "
      ]
     },
     "execution_count": 41,
     "metadata": {},
     "output_type": "execute_result"
    }
   ],
   "source": [
    "df_final= pd.merge(km_df,country_df,on='country',how='inner')\n",
    "df_final.head()"
   ]
  },
  {
   "cell_type": "code",
   "execution_count": 42,
   "metadata": {},
   "outputs": [
    {
     "data": {
      "text/plain": [
       "(107, 15)"
      ]
     },
     "execution_count": 42,
     "metadata": {},
     "output_type": "execute_result"
    }
   ],
   "source": [
    "df_final.shape"
   ]
  },
  {
   "cell_type": "code",
   "execution_count": 43,
   "metadata": {
    "scrolled": true
   },
   "outputs": [
    {
     "data": {
      "text/plain": [
       "<matplotlib.axes._subplots.AxesSubplot at 0x13a0dbd6470>"
      ]
     },
     "execution_count": 43,
     "metadata": {},
     "output_type": "execute_result"
    },
    {
     "data": {
      "image/png": "[encoded data removed]",
      "text/plain": [
       "<Figure size 432x288 with 1 Axes>"
      ]
     },
     "metadata": {},
     "output_type": "display_data"
    }
   ],
   "source": [
    "# Plotting the clusters on original variables\n",
    "sns.scatterplot(x='child_mort',y='gdpp',hue='ClusterID',legend='full',data=df_final)"
   ]
  },
  {
   "cell_type": "markdown",
   "metadata": {},
   "source": [
    "We can clearly see the 2 distinct clusters "
   ]
  },
  {
   "cell_type": "markdown",
   "metadata": {},
   "source": [
    "Some more plots to compare the difference in clusters"
   ]
  },
  {
   "cell_type": "code",
   "execution_count": 44,
   "metadata": {
    "scrolled": true
   },
   "outputs": [
    {
     "data": {
      "text/plain": [
       "<matplotlib.axes._subplots.AxesSubplot at 0x13a0dc47a58>"
      ]
     },
     "execution_count": 44,
     "metadata": {},
     "output_type": "execute_result"
    },
    {
     "data": {
      "image/png": "[encoded data removed]",
      "text/plain": [
       "<Figure size 432x288 with 1 Axes>"
      ]
     },
     "metadata": {},
     "output_type": "display_data"
    }
   ],
   "source": [
    "sns.boxplot(x='ClusterID', y='gdpp', data=df_final)"
   ]
  },
  {
   "cell_type": "code",
   "execution_count": 45,
   "metadata": {},
   "outputs": [
    {
     "data": {
      "text/plain": [
       "<matplotlib.axes._subplots.AxesSubplot at 0x13a0dcae4e0>"
      ]
     },
     "execution_count": 45,
     "metadata": {},
     "output_type": "execute_result"
    },
    {
     "data": {
      "image/png": "[encoded data removed]",
      "text/plain": [
       "<Figure size 432x288 with 1 Axes>"
      ]
     },
     "metadata": {},
     "output_type": "display_data"
    }
   ],
   "source": [
    "sns.boxplot(x='ClusterID', y='child_mort', data=df_final)"
   ]
  },
  {
   "cell_type": "markdown",
   "metadata": {},
   "source": [
    "## Mean Analysis of clusters"
   ]
  },
  {
   "cell_type": "code",
   "execution_count": 46,
   "metadata": {},
   "outputs": [
    {
     "data": {
      "text/plain": [
       "Index(['child_mort', 'exports', 'health', 'imports', 'income', 'inflation',\n",
       "       'life_expec', 'total_fer', 'gdpp'],\n",
       "      dtype='object')"
      ]
     },
     "execution_count": 46,
     "metadata": {},
     "output_type": "execute_result"
    }
   ],
   "source": [
    "dflist=[]\n",
    "cols=country.columns\n",
    "cols"
   ]
  },
  {
   "cell_type": "code",
   "execution_count": 47,
   "metadata": {},
   "outputs": [],
   "source": [
    "#For all these columns we perform calculate mean per cluster\n",
    "#creating a list of dataframes containing means of each column per cluster\n",
    "for i in range(0,len(cols)):\n",
    "    dflist.append(pd.DataFrame(df_final.groupby([\"ClusterID\"])[cols[i]].mean()))\n"
   ]
  },
  {
   "cell_type": "code",
   "execution_count": 48,
   "metadata": {
    "scrolled": true
   },
   "outputs": [
    {
     "data": {
      "text/html": [
       "<div>\n",
       "<style scoped>\n",
       "    .dataframe tbody tr th:only-of-type {\n",
       "        vertical-align: middle;\n",
       "    }\n",
       "\n",
       "    .dataframe tbody tr th {\n",
       "        vertical-align: top;\n",
       "    }\n",
       "\n",
       "    .dataframe thead th {\n",
       "        text-align: right;\n",
       "    }\n",
       "</style>\n",
       "<table border=\"1\" class=\"dataframe\">\n",
       "  <thead>\n",
       "    <tr style=\"text-align: right;\">\n",
       "      <th></th>\n",
       "      <th>ClusterID</th>\n",
       "      <th>child_mort</th>\n",
       "      <th>exports</th>\n",
       "      <th>health</th>\n",
       "      <th>imports</th>\n",
       "      <th>income</th>\n",
       "      <th>inflation</th>\n",
       "      <th>life_expec</th>\n",
       "      <th>total_fer</th>\n",
       "      <th>gdpp</th>\n",
       "    </tr>\n",
       "  </thead>\n",
       "  <tbody>\n",
       "    <tr>\n",
       "      <th>0</th>\n",
       "      <td>0</td>\n",
       "      <td>59.422449</td>\n",
       "      <td>30.462837</td>\n",
       "      <td>5.346939</td>\n",
       "      <td>40.280937</td>\n",
       "      <td>4974.448980</td>\n",
       "      <td>10.008469</td>\n",
       "      <td>64.322449</td>\n",
       "      <td>3.961633</td>\n",
       "      <td>2228.612245</td>\n",
       "    </tr>\n",
       "    <tr>\n",
       "      <th>1</th>\n",
       "      <td>1</td>\n",
       "      <td>13.118966</td>\n",
       "      <td>44.034483</td>\n",
       "      <td>7.335517</td>\n",
       "      <td>47.403448</td>\n",
       "      <td>19048.965517</td>\n",
       "      <td>4.547483</td>\n",
       "      <td>75.765517</td>\n",
       "      <td>1.955517</td>\n",
       "      <td>13379.310345</td>\n",
       "    </tr>\n",
       "  </tbody>\n",
       "</table>\n",
       "</div>"
      ],
      "text/plain": [
       "   ClusterID  child_mort    exports    health    imports        income  \\\n",
       "0          0   59.422449  30.462837  5.346939  40.280937   4974.448980   \n",
       "1          1   13.118966  44.034483  7.335517  47.403448  19048.965517   \n",
       "\n",
       "   inflation  life_expec  total_fer          gdpp  \n",
       "0  10.008469   64.322449   3.961633   2228.612245  \n",
       "1   4.547483   75.765517   1.955517  13379.310345  "
      ]
     },
     "execution_count": 48,
     "metadata": {},
     "output_type": "execute_result"
    }
   ],
   "source": [
    "#combining all those dataframes\n",
    "df_means_km = pd.concat(dflist,axis=1)\n",
    "df_means_km = pd.concat([pd.Series([0,1]),df_means_km], axis=1)\n",
    "cols=cols.insert(0,\"ClusterID\")\n",
    "df_means_km.columns = cols\n",
    "df_means_km"
   ]
  },
  {
   "cell_type": "markdown",
   "metadata": {},
   "source": [
    "Here we can see that that cluster that should be aided will be cluster - 0 with high child_mort, low income and low gdpp"
   ]
  },
  {
   "cell_type": "markdown",
   "metadata": {},
   "source": [
    "## Performing k means with a different value of k\n",
    "Lets choose k as 3 this time"
   ]
  },
  {
   "cell_type": "code",
   "execution_count": 49,
   "metadata": {},
   "outputs": [
    {
     "data": {
      "text/plain": [
       "KMeans(algorithm='auto', copy_x=True, init='k-means++', max_iter=50,\n",
       "    n_clusters=3, n_init=10, n_jobs=1, precompute_distances='auto',\n",
       "    random_state=50, tol=0.0001, verbose=0)"
      ]
     },
     "execution_count": 49,
     "metadata": {},
     "output_type": "execute_result"
    }
   ],
   "source": [
    "clus_model2 = KMeans(n_clusters = 3, max_iter=50,random_state = 50)\n",
    "clus_model2.fit(df)"
   ]
  },
  {
   "cell_type": "code",
   "execution_count": 50,
   "metadata": {},
   "outputs": [
    {
     "data": {
      "text/html": [
       "<div>\n",
       "<style scoped>\n",
       "    .dataframe tbody tr th:only-of-type {\n",
       "        vertical-align: middle;\n",
       "    }\n",
       "\n",
       "    .dataframe tbody tr th {\n",
       "        vertical-align: top;\n",
       "    }\n",
       "\n",
       "    .dataframe thead th {\n",
       "        text-align: right;\n",
       "    }\n",
       "</style>\n",
       "<table border=\"1\" class=\"dataframe\">\n",
       "  <thead>\n",
       "    <tr style=\"text-align: right;\">\n",
       "      <th></th>\n",
       "      <th>PC1</th>\n",
       "      <th>PC2</th>\n",
       "      <th>PC3</th>\n",
       "      <th>PC4</th>\n",
       "      <th>country</th>\n",
       "      <th>ClusterID</th>\n",
       "    </tr>\n",
       "  </thead>\n",
       "  <tbody>\n",
       "    <tr>\n",
       "      <th>0</th>\n",
       "      <td>-2.913787</td>\n",
       "      <td>0.088354</td>\n",
       "      <td>0.721003</td>\n",
       "      <td>0.996699</td>\n",
       "      <td>Afghanistan</td>\n",
       "      <td>2</td>\n",
       "    </tr>\n",
       "    <tr>\n",
       "      <th>1</th>\n",
       "      <td>0.429358</td>\n",
       "      <td>-0.587859</td>\n",
       "      <td>0.321052</td>\n",
       "      <td>-1.171193</td>\n",
       "      <td>Albania</td>\n",
       "      <td>0</td>\n",
       "    </tr>\n",
       "    <tr>\n",
       "      <th>2</th>\n",
       "      <td>-0.282988</td>\n",
       "      <td>-0.446657</td>\n",
       "      <td>-1.225135</td>\n",
       "      <td>-0.850127</td>\n",
       "      <td>Algeria</td>\n",
       "      <td>0</td>\n",
       "    </tr>\n",
       "    <tr>\n",
       "      <th>3</th>\n",
       "      <td>1.031988</td>\n",
       "      <td>0.130488</td>\n",
       "      <td>0.192922</td>\n",
       "      <td>-0.844808</td>\n",
       "      <td>Antigua and Barbuda</td>\n",
       "      <td>1</td>\n",
       "    </tr>\n",
       "    <tr>\n",
       "      <th>4</th>\n",
       "      <td>0.028470</td>\n",
       "      <td>-1.756721</td>\n",
       "      <td>-0.793520</td>\n",
       "      <td>-0.052486</td>\n",
       "      <td>Argentina</td>\n",
       "      <td>0</td>\n",
       "    </tr>\n",
       "    <tr>\n",
       "      <th>5</th>\n",
       "      <td>-0.180006</td>\n",
       "      <td>-0.393752</td>\n",
       "      <td>-0.864255</td>\n",
       "      <td>-0.426657</td>\n",
       "      <td>Azerbaijan</td>\n",
       "      <td>0</td>\n",
       "    </tr>\n",
       "    <tr>\n",
       "      <th>6</th>\n",
       "      <td>1.266074</td>\n",
       "      <td>-0.665088</td>\n",
       "      <td>0.453533</td>\n",
       "      <td>0.059479</td>\n",
       "      <td>Bahamas</td>\n",
       "      <td>1</td>\n",
       "    </tr>\n",
       "    <tr>\n",
       "      <th>7</th>\n",
       "      <td>1.670737</td>\n",
       "      <td>0.560394</td>\n",
       "      <td>-1.020168</td>\n",
       "      <td>-0.178515</td>\n",
       "      <td>Bahrain</td>\n",
       "      <td>1</td>\n",
       "    </tr>\n",
       "    <tr>\n",
       "      <th>8</th>\n",
       "      <td>-1.127417</td>\n",
       "      <td>-0.968982</td>\n",
       "      <td>-0.611645</td>\n",
       "      <td>-1.163111</td>\n",
       "      <td>Bangladesh</td>\n",
       "      <td>0</td>\n",
       "    </tr>\n",
       "    <tr>\n",
       "      <th>9</th>\n",
       "      <td>1.080093</td>\n",
       "      <td>-0.486679</td>\n",
       "      <td>0.649528</td>\n",
       "      <td>-0.533559</td>\n",
       "      <td>Barbados</td>\n",
       "      <td>1</td>\n",
       "    </tr>\n",
       "  </tbody>\n",
       "</table>\n",
       "</div>"
      ],
      "text/plain": [
       "        PC1       PC2       PC3       PC4              country  ClusterID\n",
       "0 -2.913787  0.088354  0.721003  0.996699          Afghanistan          2\n",
       "1  0.429358 -0.587859  0.321052 -1.171193              Albania          0\n",
       "2 -0.282988 -0.446657 -1.225135 -0.850127              Algeria          0\n",
       "3  1.031988  0.130488  0.192922 -0.844808  Antigua and Barbuda          1\n",
       "4  0.028470 -1.756721 -0.793520 -0.052486            Argentina          0\n",
       "5 -0.180006 -0.393752 -0.864255 -0.426657           Azerbaijan          0\n",
       "6  1.266074 -0.665088  0.453533  0.059479              Bahamas          1\n",
       "7  1.670737  0.560394 -1.020168 -0.178515              Bahrain          1\n",
       "8 -1.127417 -0.968982 -0.611645 -1.163111           Bangladesh          0\n",
       "9  1.080093 -0.486679  0.649528 -0.533559             Barbados          1"
      ]
     },
     "execution_count": 50,
     "metadata": {},
     "output_type": "execute_result"
    }
   ],
   "source": [
    "km_df2 = pd.concat([df1, pd.Series(clus_model2.labels_)],axis=1)\n",
    "km_df2.columns = ['PC1', 'PC2','PC3','PC4','country','ClusterID']\n",
    "km_df2.head(10)"
   ]
  },
  {
   "cell_type": "code",
   "execution_count": 51,
   "metadata": {},
   "outputs": [
    {
     "data": {
      "text/plain": [
       "0    44\n",
       "1    35\n",
       "2    28\n",
       "Name: ClusterID, dtype: int64"
      ]
     },
     "execution_count": 51,
     "metadata": {},
     "output_type": "execute_result"
    }
   ],
   "source": [
    "km_df2.ClusterID.value_counts()"
   ]
  },
  {
   "cell_type": "code",
   "execution_count": 52,
   "metadata": {},
   "outputs": [
    {
     "data": {
      "text/plain": [
       "<matplotlib.axes._subplots.AxesSubplot at 0x13a0dd32630>"
      ]
     },
     "execution_count": 52,
     "metadata": {},
     "output_type": "execute_result"
    },
    {
     "data": {
      "image/png": "[encoded data removed]",
      "text/plain": [
       "<Figure size 432x288 with 1 Axes>"
      ]
     },
     "metadata": {},
     "output_type": "display_data"
    }
   ],
   "source": [
    "#Visualisation\n",
    "sns.scatterplot(x='PC1',y='PC2',hue='ClusterID',legend='full',data=km_df2)"
   ]
  },
  {
   "cell_type": "markdown",
   "metadata": {},
   "source": [
    "We see 3 distinct clusters "
   ]
  },
  {
   "cell_type": "code",
   "execution_count": 53,
   "metadata": {},
   "outputs": [
    {
     "data": {
      "text/html": [
       "<div>\n",
       "<style scoped>\n",
       "    .dataframe tbody tr th:only-of-type {\n",
       "        vertical-align: middle;\n",
       "    }\n",
       "\n",
       "    .dataframe tbody tr th {\n",
       "        vertical-align: top;\n",
       "    }\n",
       "\n",
       "    .dataframe thead th {\n",
       "        text-align: right;\n",
       "    }\n",
       "</style>\n",
       "<table border=\"1\" class=\"dataframe\">\n",
       "  <thead>\n",
       "    <tr style=\"text-align: right;\">\n",
       "      <th></th>\n",
       "      <th>PC1</th>\n",
       "      <th>PC2</th>\n",
       "      <th>PC3</th>\n",
       "      <th>PC4</th>\n",
       "      <th>country</th>\n",
       "      <th>ClusterID</th>\n",
       "      <th>child_mort</th>\n",
       "      <th>exports</th>\n",
       "      <th>health</th>\n",
       "      <th>imports</th>\n",
       "      <th>income</th>\n",
       "      <th>inflation</th>\n",
       "      <th>life_expec</th>\n",
       "      <th>total_fer</th>\n",
       "      <th>gdpp</th>\n",
       "    </tr>\n",
       "  </thead>\n",
       "  <tbody>\n",
       "    <tr>\n",
       "      <th>0</th>\n",
       "      <td>-2.913787</td>\n",
       "      <td>0.088354</td>\n",
       "      <td>0.721003</td>\n",
       "      <td>0.996699</td>\n",
       "      <td>Afghanistan</td>\n",
       "      <td>2</td>\n",
       "      <td>90.2</td>\n",
       "      <td>10.0</td>\n",
       "      <td>7.58</td>\n",
       "      <td>44.9</td>\n",
       "      <td>1610</td>\n",
       "      <td>9.44</td>\n",
       "      <td>56.2</td>\n",
       "      <td>5.82</td>\n",
       "      <td>553</td>\n",
       "    </tr>\n",
       "    <tr>\n",
       "      <th>1</th>\n",
       "      <td>0.429358</td>\n",
       "      <td>-0.587859</td>\n",
       "      <td>0.321052</td>\n",
       "      <td>-1.171193</td>\n",
       "      <td>Albania</td>\n",
       "      <td>0</td>\n",
       "      <td>16.6</td>\n",
       "      <td>28.0</td>\n",
       "      <td>6.55</td>\n",
       "      <td>48.6</td>\n",
       "      <td>9930</td>\n",
       "      <td>4.49</td>\n",
       "      <td>76.3</td>\n",
       "      <td>1.65</td>\n",
       "      <td>4090</td>\n",
       "    </tr>\n",
       "    <tr>\n",
       "      <th>2</th>\n",
       "      <td>-0.282988</td>\n",
       "      <td>-0.446657</td>\n",
       "      <td>-1.225135</td>\n",
       "      <td>-0.850127</td>\n",
       "      <td>Algeria</td>\n",
       "      <td>0</td>\n",
       "      <td>27.3</td>\n",
       "      <td>38.4</td>\n",
       "      <td>4.17</td>\n",
       "      <td>31.4</td>\n",
       "      <td>12900</td>\n",
       "      <td>16.10</td>\n",
       "      <td>76.5</td>\n",
       "      <td>2.89</td>\n",
       "      <td>4460</td>\n",
       "    </tr>\n",
       "    <tr>\n",
       "      <th>3</th>\n",
       "      <td>1.031988</td>\n",
       "      <td>0.130488</td>\n",
       "      <td>0.192922</td>\n",
       "      <td>-0.844808</td>\n",
       "      <td>Antigua and Barbuda</td>\n",
       "      <td>1</td>\n",
       "      <td>10.3</td>\n",
       "      <td>45.5</td>\n",
       "      <td>6.03</td>\n",
       "      <td>58.9</td>\n",
       "      <td>19100</td>\n",
       "      <td>1.44</td>\n",
       "      <td>76.8</td>\n",
       "      <td>2.13</td>\n",
       "      <td>12200</td>\n",
       "    </tr>\n",
       "    <tr>\n",
       "      <th>4</th>\n",
       "      <td>0.028470</td>\n",
       "      <td>-1.756721</td>\n",
       "      <td>-0.793520</td>\n",
       "      <td>-0.052486</td>\n",
       "      <td>Argentina</td>\n",
       "      <td>0</td>\n",
       "      <td>14.5</td>\n",
       "      <td>18.9</td>\n",
       "      <td>8.10</td>\n",
       "      <td>16.0</td>\n",
       "      <td>18700</td>\n",
       "      <td>20.90</td>\n",
       "      <td>75.8</td>\n",
       "      <td>2.37</td>\n",
       "      <td>10300</td>\n",
       "    </tr>\n",
       "  </tbody>\n",
       "</table>\n",
       "</div>"
      ],
      "text/plain": [
       "        PC1       PC2       PC3       PC4              country  ClusterID  \\\n",
       "0 -2.913787  0.088354  0.721003  0.996699          Afghanistan          2   \n",
       "1  0.429358 -0.587859  0.321052 -1.171193              Albania          0   \n",
       "2 -0.282988 -0.446657 -1.225135 -0.850127              Algeria          0   \n",
       "3  1.031988  0.130488  0.192922 -0.844808  Antigua and Barbuda          1   \n",
       "4  0.028470 -1.756721 -0.793520 -0.052486            Argentina          0   \n",
       "\n",
       "   child_mort  exports  health  imports  income  inflation  life_expec  \\\n",
       "0        90.2     10.0    7.58     44.9    1610       9.44        56.2   \n",
       "1        16.6     28.0    6.55     48.6    9930       4.49        76.3   \n",
       "2        27.3     38.4    4.17     31.4   12900      16.10        76.5   \n",
       "3        10.3     45.5    6.03     58.9   19100       1.44        76.8   \n",
       "4        14.5     18.9    8.10     16.0   18700      20.90        75.8   \n",
       "\n",
       "   total_fer   gdpp  \n",
       "0       5.82    553  \n",
       "1       1.65   4090  \n",
       "2       2.89   4460  \n",
       "3       2.13  12200  \n",
       "4       2.37  10300  "
      ]
     },
     "execution_count": 53,
     "metadata": {},
     "output_type": "execute_result"
    }
   ],
   "source": [
    "#let us combine this pca components dataframe with the original dataframe\n",
    "df_final2= pd.merge(km_df2,country_df,on='country',how='inner')\n",
    "df_final2.head()"
   ]
  },
  {
   "cell_type": "code",
   "execution_count": 54,
   "metadata": {},
   "outputs": [
    {
     "data": {
      "text/plain": [
       "<matplotlib.axes._subplots.AxesSubplot at 0x13a0dd93780>"
      ]
     },
     "execution_count": 54,
     "metadata": {},
     "output_type": "execute_result"
    },
    {
     "data": {
      "image/png": "[encoded data removed]",
      "text/plain": [
       "<Figure size 432x288 with 1 Axes>"
      ]
     },
     "metadata": {},
     "output_type": "display_data"
    }
   ],
   "source": [
    "# Plotting the clusters on original variables\n",
    "sns.scatterplot(x='child_mort',y='gdpp',hue='ClusterID',legend='full',data=df_final2)"
   ]
  },
  {
   "cell_type": "code",
   "execution_count": 55,
   "metadata": {},
   "outputs": [
    {
     "data": {
      "text/plain": [
       "<matplotlib.axes._subplots.AxesSubplot at 0x13a0de0c0b8>"
      ]
     },
     "execution_count": 55,
     "metadata": {},
     "output_type": "execute_result"
    },
    {
     "data": {
      "image/png": "[encoded data removed]",
      "text/plain": [
       "<Figure size 432x288 with 1 Axes>"
      ]
     },
     "metadata": {},
     "output_type": "display_data"
    }
   ],
   "source": [
    "#plotting gdpp\n",
    "sns.boxplot(x=\"ClusterID\",y='gdpp',data=df_final2)"
   ]
  },
  {
   "cell_type": "code",
   "execution_count": 56,
   "metadata": {},
   "outputs": [
    {
     "data": {
      "text/plain": [
       "<matplotlib.axes._subplots.AxesSubplot at 0x13a0dad0128>"
      ]
     },
     "execution_count": 56,
     "metadata": {},
     "output_type": "execute_result"
    },
    {
     "data": {
      "image/png": "[encoded data removed]",
      "text/plain": [
       "<Figure size 432x288 with 1 Axes>"
      ]
     },
     "metadata": {},
     "output_type": "display_data"
    }
   ],
   "source": [
    "#plotting child_mort\n",
    "sns.boxplot(x=\"ClusterID\",y='child_mort',data=df_final2)"
   ]
  },
  {
   "cell_type": "code",
   "execution_count": 57,
   "metadata": {},
   "outputs": [
    {
     "data": {
      "text/plain": [
       "<matplotlib.axes._subplots.AxesSubplot at 0x13a0de9f2b0>"
      ]
     },
     "execution_count": 57,
     "metadata": {},
     "output_type": "execute_result"
    },
    {
     "data": {
      "image/png": "[encoded data removed]",
      "text/plain": [
       "<Figure size 432x288 with 1 Axes>"
      ]
     },
     "metadata": {},
     "output_type": "display_data"
    }
   ],
   "source": [
    "#plotting income\n",
    "sns.boxplot(x=\"ClusterID\",y='income',data=df_final2)"
   ]
  },
  {
   "cell_type": "markdown",
   "metadata": {},
   "source": [
    "## Mean analysis of clusters"
   ]
  },
  {
   "cell_type": "code",
   "execution_count": 58,
   "metadata": {},
   "outputs": [
    {
     "data": {
      "text/plain": [
       "Index(['child_mort', 'exports', 'health', 'imports', 'income', 'inflation',\n",
       "       'life_expec', 'total_fer', 'gdpp'],\n",
       "      dtype='object')"
      ]
     },
     "execution_count": 58,
     "metadata": {},
     "output_type": "execute_result"
    }
   ],
   "source": [
    "dflist1=[]\n",
    "cols=country.columns\n",
    "cols"
   ]
  },
  {
   "cell_type": "code",
   "execution_count": 59,
   "metadata": {},
   "outputs": [],
   "source": [
    "#For all these columns we perform calculate mean per cluster\n",
    "#creating a list of dataframes containing means of each column per cluster\n",
    "for i in range(0,len(cols)):\n",
    "    dflist1.append(pd.DataFrame(df_final2.groupby([\"ClusterID\"])[cols[i]].mean()))"
   ]
  },
  {
   "cell_type": "code",
   "execution_count": 60,
   "metadata": {},
   "outputs": [
    {
     "data": {
      "text/html": [
       "<div>\n",
       "<style scoped>\n",
       "    .dataframe tbody tr th:only-of-type {\n",
       "        vertical-align: middle;\n",
       "    }\n",
       "\n",
       "    .dataframe tbody tr th {\n",
       "        vertical-align: top;\n",
       "    }\n",
       "\n",
       "    .dataframe thead th {\n",
       "        text-align: right;\n",
       "    }\n",
       "</style>\n",
       "<table border=\"1\" class=\"dataframe\">\n",
       "  <thead>\n",
       "    <tr style=\"text-align: right;\">\n",
       "      <th></th>\n",
       "      <th>ClusterID</th>\n",
       "      <th>child_mort</th>\n",
       "      <th>exports</th>\n",
       "      <th>health</th>\n",
       "      <th>imports</th>\n",
       "      <th>income</th>\n",
       "      <th>inflation</th>\n",
       "      <th>life_expec</th>\n",
       "      <th>total_fer</th>\n",
       "      <th>gdpp</th>\n",
       "    </tr>\n",
       "  </thead>\n",
       "  <tbody>\n",
       "    <tr>\n",
       "      <th>0</th>\n",
       "      <td>0</td>\n",
       "      <td>29.136364</td>\n",
       "      <td>36.165659</td>\n",
       "      <td>5.455455</td>\n",
       "      <td>42.271952</td>\n",
       "      <td>9612.727273</td>\n",
       "      <td>9.021500</td>\n",
       "      <td>71.218182</td>\n",
       "      <td>2.604545</td>\n",
       "      <td>4297.318182</td>\n",
       "    </tr>\n",
       "    <tr>\n",
       "      <th>1</th>\n",
       "      <td>1</td>\n",
       "      <td>7.928571</td>\n",
       "      <td>47.311429</td>\n",
       "      <td>8.142857</td>\n",
       "      <td>50.485714</td>\n",
       "      <td>23198.000000</td>\n",
       "      <td>2.331086</td>\n",
       "      <td>77.334286</td>\n",
       "      <td>1.753429</td>\n",
       "      <td>18304.857143</td>\n",
       "    </tr>\n",
       "    <tr>\n",
       "      <th>2</th>\n",
       "      <td>2</td>\n",
       "      <td>75.467857</td>\n",
       "      <td>28.553214</td>\n",
       "      <td>5.800714</td>\n",
       "      <td>39.150000</td>\n",
       "      <td>4060.642857</td>\n",
       "      <td>9.844107</td>\n",
       "      <td>60.925000</td>\n",
       "      <td>4.698929</td>\n",
       "      <td>1980.357143</td>\n",
       "    </tr>\n",
       "  </tbody>\n",
       "</table>\n",
       "</div>"
      ],
      "text/plain": [
       "   ClusterID  child_mort    exports    health    imports        income  \\\n",
       "0          0   29.136364  36.165659  5.455455  42.271952   9612.727273   \n",
       "1          1    7.928571  47.311429  8.142857  50.485714  23198.000000   \n",
       "2          2   75.467857  28.553214  5.800714  39.150000   4060.642857   \n",
       "\n",
       "   inflation  life_expec  total_fer          gdpp  \n",
       "0   9.021500   71.218182   2.604545   4297.318182  \n",
       "1   2.331086   77.334286   1.753429  18304.857143  \n",
       "2   9.844107   60.925000   4.698929   1980.357143  "
      ]
     },
     "execution_count": 60,
     "metadata": {},
     "output_type": "execute_result"
    }
   ],
   "source": [
    "#combining all those dataframes\n",
    "df_means_km2 = pd.concat(dflist1,axis=1)\n",
    "df_means_km2 = pd.concat([pd.Series([0,1,2]),df_means_km2], axis=1)\n",
    "cols=cols.insert(0,\"ClusterID\")\n",
    "df_means_km2.columns = cols\n",
    "df_means_km2"
   ]
  },
  {
   "cell_type": "markdown",
   "metadata": {},
   "source": [
    "Here we can see that that cluster that should be aided will be cluster - 2 with high child_mort, low income and low gdpp"
   ]
  },
  {
   "cell_type": "markdown",
   "metadata": {},
   "source": [
    "## Hierachical Clustering"
   ]
  },
  {
   "cell_type": "markdown",
   "metadata": {},
   "source": [
    "Let us Perform hierarchical clustering with single and complete linkage on our PC dataset and obtain the cluster id"
   ]
  },
  {
   "cell_type": "code",
   "execution_count": 61,
   "metadata": {},
   "outputs": [
    {
     "data": {
      "text/html": [
       "<div>\n",
       "<style scoped>\n",
       "    .dataframe tbody tr th:only-of-type {\n",
       "        vertical-align: middle;\n",
       "    }\n",
       "\n",
       "    .dataframe tbody tr th {\n",
       "        vertical-align: top;\n",
       "    }\n",
       "\n",
       "    .dataframe thead th {\n",
       "        text-align: right;\n",
       "    }\n",
       "</style>\n",
       "<table border=\"1\" class=\"dataframe\">\n",
       "  <thead>\n",
       "    <tr style=\"text-align: right;\">\n",
       "      <th></th>\n",
       "      <th>PC1</th>\n",
       "      <th>PC2</th>\n",
       "      <th>PC3</th>\n",
       "      <th>PC4</th>\n",
       "    </tr>\n",
       "  </thead>\n",
       "  <tbody>\n",
       "    <tr>\n",
       "      <th>0</th>\n",
       "      <td>-2.913787</td>\n",
       "      <td>0.088354</td>\n",
       "      <td>0.721003</td>\n",
       "      <td>0.996699</td>\n",
       "    </tr>\n",
       "    <tr>\n",
       "      <th>1</th>\n",
       "      <td>0.429358</td>\n",
       "      <td>-0.587859</td>\n",
       "      <td>0.321052</td>\n",
       "      <td>-1.171193</td>\n",
       "    </tr>\n",
       "    <tr>\n",
       "      <th>2</th>\n",
       "      <td>-0.282988</td>\n",
       "      <td>-0.446657</td>\n",
       "      <td>-1.225135</td>\n",
       "      <td>-0.850127</td>\n",
       "    </tr>\n",
       "    <tr>\n",
       "      <th>3</th>\n",
       "      <td>-2.930969</td>\n",
       "      <td>1.699437</td>\n",
       "      <td>-1.521734</td>\n",
       "      <td>0.875966</td>\n",
       "    </tr>\n",
       "    <tr>\n",
       "      <th>4</th>\n",
       "      <td>1.031988</td>\n",
       "      <td>0.130488</td>\n",
       "      <td>0.192922</td>\n",
       "      <td>-0.844808</td>\n",
       "    </tr>\n",
       "  </tbody>\n",
       "</table>\n",
       "</div>"
      ],
      "text/plain": [
       "        PC1       PC2       PC3       PC4\n",
       "0 -2.913787  0.088354  0.721003  0.996699\n",
       "1  0.429358 -0.587859  0.321052 -1.171193\n",
       "2 -0.282988 -0.446657 -1.225135 -0.850127\n",
       "3 -2.930969  1.699437 -1.521734  0.875966\n",
       "4  1.031988  0.130488  0.192922 -0.844808"
      ]
     },
     "execution_count": 61,
     "metadata": {},
     "output_type": "execute_result"
    }
   ],
   "source": [
    "df_pca.head()"
   ]
  },
  {
   "cell_type": "code",
   "execution_count": 62,
   "metadata": {},
   "outputs": [
    {
     "data": {
      "image/png": "[encoded data removed]",
      "text/plain": [
       "<Figure size 432x288 with 1 Axes>"
      ]
     },
     "metadata": {},
     "output_type": "display_data"
    }
   ],
   "source": [
    "# single linkage\n",
    "merging = linkage(df_pca, method=\"single\", metric='euclidean')\n",
    "dendrogram(merging)\n",
    "plt.show()"
   ]
  },
  {
   "cell_type": "markdown",
   "metadata": {},
   "source": [
    "Cannot be sure about the clusters, let us see what the complete linkage results in"
   ]
  },
  {
   "cell_type": "code",
   "execution_count": 63,
   "metadata": {},
   "outputs": [
    {
     "data": {
      "image/png": "[encoded data removed]",
      "text/plain": [
       "<Figure size 432x288 with 1 Axes>"
      ]
     },
     "metadata": {},
     "output_type": "display_data"
    }
   ],
   "source": [
    "# complete linkage\n",
    "merging = linkage(df_pca, method=\"complete\", metric='euclidean')\n",
    "dendrogram(merging)\n",
    "plt.show()"
   ]
  },
  {
   "cell_type": "markdown",
   "metadata": {},
   "source": [
    "Here we see 3 clusters being formed by complete linkage by cutting the dendogram at 8"
   ]
  },
  {
   "cell_type": "code",
   "execution_count": 64,
   "metadata": {},
   "outputs": [
    {
     "data": {
      "text/plain": [
       "array([0, 0, 0, 0, 0, 0, 0, 1, 1, 0, 0, 1, 0, 0, 0, 1, 0, 0, 0, 0, 0, 0,\n",
       "       0, 1, 0, 0, 0, 0, 0, 1, 0, 0, 0, 0, 0, 0, 0, 0, 0, 0, 0, 0, 0, 0,\n",
       "       1, 0, 0, 0, 0, 0, 0, 0, 0, 1, 1, 0, 0, 0, 1, 0, 1, 0, 0, 0, 0, 0,\n",
       "       0, 0, 1, 0, 0, 0, 0, 1, 1, 1, 0, 1, 0, 0, 0, 0, 1, 0, 0, 0, 0, 0,\n",
       "       0, 1, 0, 2, 0, 0, 0, 0, 0, 0, 2, 0, 0, 0, 0, 0, 0, 0, 0, 0, 0, 0,\n",
       "       1, 1, 0, 0, 1, 1, 0, 0, 0, 0, 0, 0, 1, 1, 0, 0, 0, 0, 1, 0, 0, 2,\n",
       "       0, 2, 0, 0, 0, 0, 0, 1, 0, 0, 0, 0, 1, 1, 0, 0, 0, 0, 0, 0, 0, 0,\n",
       "       0, 0, 0, 1, 1, 1, 0, 0, 0, 0, 0, 0, 0])"
      ]
     },
     "execution_count": 64,
     "metadata": {},
     "output_type": "execute_result"
    }
   ],
   "source": [
    "# Let us create those 3 clusters\n",
    "cluster_labels = cut_tree(merging, n_clusters=3).reshape(-1, )\n",
    "cluster_labels"
   ]
  },
  {
   "cell_type": "code",
   "execution_count": 65,
   "metadata": {},
   "outputs": [
    {
     "data": {
      "text/html": [
       "<div>\n",
       "<style scoped>\n",
       "    .dataframe tbody tr th:only-of-type {\n",
       "        vertical-align: middle;\n",
       "    }\n",
       "\n",
       "    .dataframe tbody tr th {\n",
       "        vertical-align: top;\n",
       "    }\n",
       "\n",
       "    .dataframe thead th {\n",
       "        text-align: right;\n",
       "    }\n",
       "</style>\n",
       "<table border=\"1\" class=\"dataframe\">\n",
       "  <thead>\n",
       "    <tr style=\"text-align: right;\">\n",
       "      <th></th>\n",
       "      <th>PC1</th>\n",
       "      <th>PC2</th>\n",
       "      <th>PC3</th>\n",
       "      <th>PC4</th>\n",
       "      <th>country</th>\n",
       "      <th>ClusterID</th>\n",
       "    </tr>\n",
       "  </thead>\n",
       "  <tbody>\n",
       "    <tr>\n",
       "      <th>0</th>\n",
       "      <td>-2.913787</td>\n",
       "      <td>0.088354</td>\n",
       "      <td>0.721003</td>\n",
       "      <td>0.996699</td>\n",
       "      <td>Afghanistan</td>\n",
       "      <td>0</td>\n",
       "    </tr>\n",
       "    <tr>\n",
       "      <th>1</th>\n",
       "      <td>0.429358</td>\n",
       "      <td>-0.587859</td>\n",
       "      <td>0.321052</td>\n",
       "      <td>-1.171193</td>\n",
       "      <td>Albania</td>\n",
       "      <td>0</td>\n",
       "    </tr>\n",
       "    <tr>\n",
       "      <th>2</th>\n",
       "      <td>-0.282988</td>\n",
       "      <td>-0.446657</td>\n",
       "      <td>-1.225135</td>\n",
       "      <td>-0.850127</td>\n",
       "      <td>Algeria</td>\n",
       "      <td>0</td>\n",
       "    </tr>\n",
       "    <tr>\n",
       "      <th>3</th>\n",
       "      <td>1.031988</td>\n",
       "      <td>0.130488</td>\n",
       "      <td>0.192922</td>\n",
       "      <td>-0.844808</td>\n",
       "      <td>Antigua and Barbuda</td>\n",
       "      <td>0</td>\n",
       "    </tr>\n",
       "    <tr>\n",
       "      <th>4</th>\n",
       "      <td>0.028470</td>\n",
       "      <td>-1.756721</td>\n",
       "      <td>-0.793520</td>\n",
       "      <td>-0.052486</td>\n",
       "      <td>Argentina</td>\n",
       "      <td>0</td>\n",
       "    </tr>\n",
       "  </tbody>\n",
       "</table>\n",
       "</div>"
      ],
      "text/plain": [
       "        PC1       PC2       PC3       PC4              country  ClusterID\n",
       "0 -2.913787  0.088354  0.721003  0.996699          Afghanistan          0\n",
       "1  0.429358 -0.587859  0.321052 -1.171193              Albania          0\n",
       "2 -0.282988 -0.446657 -1.225135 -0.850127              Algeria          0\n",
       "3  1.031988  0.130488  0.192922 -0.844808  Antigua and Barbuda          0\n",
       "4  0.028470 -1.756721 -0.793520 -0.052486            Argentina          0"
      ]
     },
     "execution_count": 65,
     "metadata": {},
     "output_type": "execute_result"
    }
   ],
   "source": [
    "#let us asign the clsuter labels to our dataframe\n",
    "#Reassigning indexes in the dataframe as these has some missing values from outlier analysis\n",
    "df1=df_coun\n",
    "df1.index = pd.RangeIndex(len(df1.index))\n",
    "#assigning labels to the countries\n",
    "hier_df = pd.concat([df1, pd.Series(cluster_labels)],axis=1)\n",
    "hier_df.columns = ['PC1', 'PC2','PC3','PC4','country','ClusterID']\n",
    "hier_df.head()"
   ]
  },
  {
   "cell_type": "code",
   "execution_count": 66,
   "metadata": {},
   "outputs": [
    {
     "data": {
      "text/plain": [
       "<matplotlib.axes._subplots.AxesSubplot at 0x13a0f278208>"
      ]
     },
     "execution_count": 66,
     "metadata": {},
     "output_type": "execute_result"
    },
    {
     "data": {
      "image/png": "[encoded data removed]",
      "text/plain": [
       "<Figure size 432x288 with 1 Axes>"
      ]
     },
     "metadata": {},
     "output_type": "display_data"
    }
   ],
   "source": [
    "#Visualization on the clusters formed on PC variables\n",
    "sns.scatterplot(x='PC1',y='PC2',hue='ClusterID',legend='full',data=hier_df)"
   ]
  },
  {
   "cell_type": "code",
   "execution_count": 67,
   "metadata": {},
   "outputs": [
    {
     "data": {
      "text/html": [
       "<div>\n",
       "<style scoped>\n",
       "    .dataframe tbody tr th:only-of-type {\n",
       "        vertical-align: middle;\n",
       "    }\n",
       "\n",
       "    .dataframe tbody tr th {\n",
       "        vertical-align: top;\n",
       "    }\n",
       "\n",
       "    .dataframe thead th {\n",
       "        text-align: right;\n",
       "    }\n",
       "</style>\n",
       "<table border=\"1\" class=\"dataframe\">\n",
       "  <thead>\n",
       "    <tr style=\"text-align: right;\">\n",
       "      <th></th>\n",
       "      <th>PC1</th>\n",
       "      <th>PC2</th>\n",
       "      <th>PC3</th>\n",
       "      <th>PC4</th>\n",
       "      <th>country</th>\n",
       "      <th>ClusterID</th>\n",
       "      <th>child_mort</th>\n",
       "      <th>exports</th>\n",
       "      <th>health</th>\n",
       "      <th>imports</th>\n",
       "      <th>income</th>\n",
       "      <th>inflation</th>\n",
       "      <th>life_expec</th>\n",
       "      <th>total_fer</th>\n",
       "      <th>gdpp</th>\n",
       "    </tr>\n",
       "  </thead>\n",
       "  <tbody>\n",
       "    <tr>\n",
       "      <th>0</th>\n",
       "      <td>-2.913787</td>\n",
       "      <td>0.088354</td>\n",
       "      <td>0.721003</td>\n",
       "      <td>0.996699</td>\n",
       "      <td>Afghanistan</td>\n",
       "      <td>0</td>\n",
       "      <td>90.2</td>\n",
       "      <td>10.0</td>\n",
       "      <td>7.58</td>\n",
       "      <td>44.9</td>\n",
       "      <td>1610</td>\n",
       "      <td>9.44</td>\n",
       "      <td>56.2</td>\n",
       "      <td>5.82</td>\n",
       "      <td>553</td>\n",
       "    </tr>\n",
       "    <tr>\n",
       "      <th>1</th>\n",
       "      <td>0.429358</td>\n",
       "      <td>-0.587859</td>\n",
       "      <td>0.321052</td>\n",
       "      <td>-1.171193</td>\n",
       "      <td>Albania</td>\n",
       "      <td>0</td>\n",
       "      <td>16.6</td>\n",
       "      <td>28.0</td>\n",
       "      <td>6.55</td>\n",
       "      <td>48.6</td>\n",
       "      <td>9930</td>\n",
       "      <td>4.49</td>\n",
       "      <td>76.3</td>\n",
       "      <td>1.65</td>\n",
       "      <td>4090</td>\n",
       "    </tr>\n",
       "    <tr>\n",
       "      <th>2</th>\n",
       "      <td>-0.282988</td>\n",
       "      <td>-0.446657</td>\n",
       "      <td>-1.225135</td>\n",
       "      <td>-0.850127</td>\n",
       "      <td>Algeria</td>\n",
       "      <td>0</td>\n",
       "      <td>27.3</td>\n",
       "      <td>38.4</td>\n",
       "      <td>4.17</td>\n",
       "      <td>31.4</td>\n",
       "      <td>12900</td>\n",
       "      <td>16.10</td>\n",
       "      <td>76.5</td>\n",
       "      <td>2.89</td>\n",
       "      <td>4460</td>\n",
       "    </tr>\n",
       "    <tr>\n",
       "      <th>3</th>\n",
       "      <td>1.031988</td>\n",
       "      <td>0.130488</td>\n",
       "      <td>0.192922</td>\n",
       "      <td>-0.844808</td>\n",
       "      <td>Antigua and Barbuda</td>\n",
       "      <td>0</td>\n",
       "      <td>10.3</td>\n",
       "      <td>45.5</td>\n",
       "      <td>6.03</td>\n",
       "      <td>58.9</td>\n",
       "      <td>19100</td>\n",
       "      <td>1.44</td>\n",
       "      <td>76.8</td>\n",
       "      <td>2.13</td>\n",
       "      <td>12200</td>\n",
       "    </tr>\n",
       "    <tr>\n",
       "      <th>4</th>\n",
       "      <td>0.028470</td>\n",
       "      <td>-1.756721</td>\n",
       "      <td>-0.793520</td>\n",
       "      <td>-0.052486</td>\n",
       "      <td>Argentina</td>\n",
       "      <td>0</td>\n",
       "      <td>14.5</td>\n",
       "      <td>18.9</td>\n",
       "      <td>8.10</td>\n",
       "      <td>16.0</td>\n",
       "      <td>18700</td>\n",
       "      <td>20.90</td>\n",
       "      <td>75.8</td>\n",
       "      <td>2.37</td>\n",
       "      <td>10300</td>\n",
       "    </tr>\n",
       "  </tbody>\n",
       "</table>\n",
       "</div>"
      ],
      "text/plain": [
       "        PC1       PC2       PC3       PC4              country  ClusterID  \\\n",
       "0 -2.913787  0.088354  0.721003  0.996699          Afghanistan          0   \n",
       "1  0.429358 -0.587859  0.321052 -1.171193              Albania          0   \n",
       "2 -0.282988 -0.446657 -1.225135 -0.850127              Algeria          0   \n",
       "3  1.031988  0.130488  0.192922 -0.844808  Antigua and Barbuda          0   \n",
       "4  0.028470 -1.756721 -0.793520 -0.052486            Argentina          0   \n",
       "\n",
       "   child_mort  exports  health  imports  income  inflation  life_expec  \\\n",
       "0        90.2     10.0    7.58     44.9    1610       9.44        56.2   \n",
       "1        16.6     28.0    6.55     48.6    9930       4.49        76.3   \n",
       "2        27.3     38.4    4.17     31.4   12900      16.10        76.5   \n",
       "3        10.3     45.5    6.03     58.9   19100       1.44        76.8   \n",
       "4        14.5     18.9    8.10     16.0   18700      20.90        75.8   \n",
       "\n",
       "   total_fer   gdpp  \n",
       "0       5.82    553  \n",
       "1       1.65   4090  \n",
       "2       2.89   4460  \n",
       "3       2.13  12200  \n",
       "4       2.37  10300  "
      ]
     },
     "execution_count": 67,
     "metadata": {},
     "output_type": "execute_result"
    }
   ],
   "source": [
    "#merging them with the original dataframe\n",
    "df_final_hier= pd.merge(hier_df,country_df,on='country',how='inner')\n",
    "df_final_hier.head()"
   ]
  },
  {
   "cell_type": "code",
   "execution_count": 68,
   "metadata": {
    "scrolled": false
   },
   "outputs": [
    {
     "data": {
      "text/plain": [
       "<matplotlib.axes._subplots.AxesSubplot at 0x13a0f2df9e8>"
      ]
     },
     "execution_count": 68,
     "metadata": {},
     "output_type": "execute_result"
    },
    {
     "data": {
      "image/png": "[encoded data removed]",
      "text/plain": [
       "<Figure size 432x288 with 1 Axes>"
      ]
     },
     "metadata": {},
     "output_type": "display_data"
    }
   ],
   "source": [
    "# plotting with original variables\n",
    "sns.scatterplot(x='child_mort',y='gdpp',hue='ClusterID',legend='full',data=df_final_hier)"
   ]
  },
  {
   "cell_type": "code",
   "execution_count": 69,
   "metadata": {},
   "outputs": [
    {
     "data": {
      "text/plain": [
       "<matplotlib.axes._subplots.AxesSubplot at 0x13a0f350550>"
      ]
     },
     "execution_count": 69,
     "metadata": {},
     "output_type": "execute_result"
    },
    {
     "data": {
      "image/png": "[encoded data removed]",
      "text/plain": [
       "<Figure size 432x288 with 1 Axes>"
      ]
     },
     "metadata": {},
     "output_type": "display_data"
    }
   ],
   "source": [
    "sns.boxplot(x='ClusterID', y='gdpp', data=df_final_hier)"
   ]
  },
  {
   "cell_type": "code",
   "execution_count": 70,
   "metadata": {},
   "outputs": [
    {
     "data": {
      "text/plain": [
       "<matplotlib.axes._subplots.AxesSubplot at 0x13a0f3214e0>"
      ]
     },
     "execution_count": 70,
     "metadata": {},
     "output_type": "execute_result"
    },
    {
     "data": {
      "image/png": "[encoded data removed]",
      "text/plain": [
       "<Figure size 432x288 with 1 Axes>"
      ]
     },
     "metadata": {},
     "output_type": "display_data"
    }
   ],
   "source": [
    "sns.boxplot(x='ClusterID', y='child_mort', data=df_final_hier)"
   ]
  },
  {
   "cell_type": "markdown",
   "metadata": {},
   "source": [
    "### Mean analysis of clusters formed by hierarchical clustering"
   ]
  },
  {
   "cell_type": "code",
   "execution_count": 71,
   "metadata": {},
   "outputs": [
    {
     "data": {
      "text/plain": [
       "Index(['child_mort', 'exports', 'health', 'imports', 'income', 'inflation',\n",
       "       'life_expec', 'total_fer', 'gdpp'],\n",
       "      dtype='object')"
      ]
     },
     "execution_count": 71,
     "metadata": {},
     "output_type": "execute_result"
    }
   ],
   "source": [
    "dflist2=[]\n",
    "cols=country.columns\n",
    "cols"
   ]
  },
  {
   "cell_type": "code",
   "execution_count": 72,
   "metadata": {},
   "outputs": [],
   "source": [
    "#For all these columns we perform calculate mean per cluster\n",
    "#creating a list of dataframes containing means of each column per cluster\n",
    "for i in range(0,len(cols)):\n",
    "    dflist2.append(pd.DataFrame(df_final_hier.groupby([\"ClusterID\"])[cols[i]].mean()))"
   ]
  },
  {
   "cell_type": "code",
   "execution_count": 73,
   "metadata": {
    "scrolled": true
   },
   "outputs": [
    {
     "data": {
      "text/html": [
       "<div>\n",
       "<style scoped>\n",
       "    .dataframe tbody tr th:only-of-type {\n",
       "        vertical-align: middle;\n",
       "    }\n",
       "\n",
       "    .dataframe tbody tr th {\n",
       "        vertical-align: top;\n",
       "    }\n",
       "\n",
       "    .dataframe thead th {\n",
       "        text-align: right;\n",
       "    }\n",
       "</style>\n",
       "<table border=\"1\" class=\"dataframe\">\n",
       "  <thead>\n",
       "    <tr style=\"text-align: right;\">\n",
       "      <th></th>\n",
       "      <th>ClusterID</th>\n",
       "      <th>child_mort</th>\n",
       "      <th>exports</th>\n",
       "      <th>health</th>\n",
       "      <th>imports</th>\n",
       "      <th>income</th>\n",
       "      <th>inflation</th>\n",
       "      <th>life_expec</th>\n",
       "      <th>total_fer</th>\n",
       "      <th>gdpp</th>\n",
       "    </tr>\n",
       "  </thead>\n",
       "  <tbody>\n",
       "    <tr>\n",
       "      <th>0</th>\n",
       "      <td>0</td>\n",
       "      <td>35.158621</td>\n",
       "      <td>36.539989</td>\n",
       "      <td>6.545172</td>\n",
       "      <td>43.331792</td>\n",
       "      <td>12487.471264</td>\n",
       "      <td>7.412161</td>\n",
       "      <td>70.393103</td>\n",
       "      <td>2.906667</td>\n",
       "      <td>8569.287356</td>\n",
       "    </tr>\n",
       "    <tr>\n",
       "      <th>1</th>\n",
       "      <td>1</td>\n",
       "      <td>31.700000</td>\n",
       "      <td>44.155556</td>\n",
       "      <td>5.793333</td>\n",
       "      <td>49.411111</td>\n",
       "      <td>12776.555556</td>\n",
       "      <td>5.283389</td>\n",
       "      <td>70.750000</td>\n",
       "      <td>2.777222</td>\n",
       "      <td>6704.111111</td>\n",
       "    </tr>\n",
       "    <tr>\n",
       "      <th>2</th>\n",
       "      <td>2</td>\n",
       "      <td>21.600000</td>\n",
       "      <td>36.450000</td>\n",
       "      <td>6.875000</td>\n",
       "      <td>31.950000</td>\n",
       "      <td>16100.000000</td>\n",
       "      <td>7.105000</td>\n",
       "      <td>74.250000</td>\n",
       "      <td>2.335000</td>\n",
       "      <td>9500.000000</td>\n",
       "    </tr>\n",
       "  </tbody>\n",
       "</table>\n",
       "</div>"
      ],
      "text/plain": [
       "   ClusterID  child_mort    exports    health    imports        income  \\\n",
       "0          0   35.158621  36.539989  6.545172  43.331792  12487.471264   \n",
       "1          1   31.700000  44.155556  5.793333  49.411111  12776.555556   \n",
       "2          2   21.600000  36.450000  6.875000  31.950000  16100.000000   \n",
       "\n",
       "   inflation  life_expec  total_fer         gdpp  \n",
       "0   7.412161   70.393103   2.906667  8569.287356  \n",
       "1   5.283389   70.750000   2.777222  6704.111111  \n",
       "2   7.105000   74.250000   2.335000  9500.000000  "
      ]
     },
     "execution_count": 73,
     "metadata": {},
     "output_type": "execute_result"
    }
   ],
   "source": [
    "#combining all those dataframes\n",
    "df_means_hier = pd.concat(dflist2,axis=1)\n",
    "df_means_hier = pd.concat([pd.Series([0,1,2]),df_means_hier], axis=1)\n",
    "cols=cols.insert(0,\"ClusterID\")\n",
    "df_means_hier.columns = cols\n",
    "df_means_hier"
   ]
  },
  {
   "cell_type": "markdown",
   "metadata": {},
   "source": [
    "What we notice here is that, hierarchical clustering resulted in clusters that dont vary much when it comes to the means of the relevant columns like child_mort,gdpp and income "
   ]
  },
  {
   "cell_type": "markdown",
   "metadata": {},
   "source": [
    "Where as in k means, we saw the clear distinction in values when 3 clusters were formed. We shall proceed with the clusters formed by the k means clustering algorithm for this project"
   ]
  },
  {
   "cell_type": "markdown",
   "metadata": {},
   "source": [
    "### Final model selected  -  K means with k=3"
   ]
  },
  {
   "cell_type": "code",
   "execution_count": 74,
   "metadata": {},
   "outputs": [
    {
     "data": {
      "text/html": [
       "<div>\n",
       "<style scoped>\n",
       "    .dataframe tbody tr th:only-of-type {\n",
       "        vertical-align: middle;\n",
       "    }\n",
       "\n",
       "    .dataframe tbody tr th {\n",
       "        vertical-align: top;\n",
       "    }\n",
       "\n",
       "    .dataframe thead th {\n",
       "        text-align: right;\n",
       "    }\n",
       "</style>\n",
       "<table border=\"1\" class=\"dataframe\">\n",
       "  <thead>\n",
       "    <tr style=\"text-align: right;\">\n",
       "      <th></th>\n",
       "      <th>PC1</th>\n",
       "      <th>PC2</th>\n",
       "      <th>PC3</th>\n",
       "      <th>PC4</th>\n",
       "      <th>country</th>\n",
       "      <th>ClusterID</th>\n",
       "      <th>child_mort</th>\n",
       "      <th>exports</th>\n",
       "      <th>health</th>\n",
       "      <th>imports</th>\n",
       "      <th>income</th>\n",
       "      <th>inflation</th>\n",
       "      <th>life_expec</th>\n",
       "      <th>total_fer</th>\n",
       "      <th>gdpp</th>\n",
       "    </tr>\n",
       "  </thead>\n",
       "  <tbody>\n",
       "    <tr>\n",
       "      <th>0</th>\n",
       "      <td>-2.913787</td>\n",
       "      <td>0.088354</td>\n",
       "      <td>0.721003</td>\n",
       "      <td>0.996699</td>\n",
       "      <td>Afghanistan</td>\n",
       "      <td>2</td>\n",
       "      <td>90.2</td>\n",
       "      <td>10.0</td>\n",
       "      <td>7.58</td>\n",
       "      <td>44.9</td>\n",
       "      <td>1610</td>\n",
       "      <td>9.44</td>\n",
       "      <td>56.2</td>\n",
       "      <td>5.82</td>\n",
       "      <td>553</td>\n",
       "    </tr>\n",
       "    <tr>\n",
       "      <th>1</th>\n",
       "      <td>0.429358</td>\n",
       "      <td>-0.587859</td>\n",
       "      <td>0.321052</td>\n",
       "      <td>-1.171193</td>\n",
       "      <td>Albania</td>\n",
       "      <td>0</td>\n",
       "      <td>16.6</td>\n",
       "      <td>28.0</td>\n",
       "      <td>6.55</td>\n",
       "      <td>48.6</td>\n",
       "      <td>9930</td>\n",
       "      <td>4.49</td>\n",
       "      <td>76.3</td>\n",
       "      <td>1.65</td>\n",
       "      <td>4090</td>\n",
       "    </tr>\n",
       "    <tr>\n",
       "      <th>2</th>\n",
       "      <td>-0.282988</td>\n",
       "      <td>-0.446657</td>\n",
       "      <td>-1.225135</td>\n",
       "      <td>-0.850127</td>\n",
       "      <td>Algeria</td>\n",
       "      <td>0</td>\n",
       "      <td>27.3</td>\n",
       "      <td>38.4</td>\n",
       "      <td>4.17</td>\n",
       "      <td>31.4</td>\n",
       "      <td>12900</td>\n",
       "      <td>16.10</td>\n",
       "      <td>76.5</td>\n",
       "      <td>2.89</td>\n",
       "      <td>4460</td>\n",
       "    </tr>\n",
       "    <tr>\n",
       "      <th>3</th>\n",
       "      <td>1.031988</td>\n",
       "      <td>0.130488</td>\n",
       "      <td>0.192922</td>\n",
       "      <td>-0.844808</td>\n",
       "      <td>Antigua and Barbuda</td>\n",
       "      <td>1</td>\n",
       "      <td>10.3</td>\n",
       "      <td>45.5</td>\n",
       "      <td>6.03</td>\n",
       "      <td>58.9</td>\n",
       "      <td>19100</td>\n",
       "      <td>1.44</td>\n",
       "      <td>76.8</td>\n",
       "      <td>2.13</td>\n",
       "      <td>12200</td>\n",
       "    </tr>\n",
       "    <tr>\n",
       "      <th>4</th>\n",
       "      <td>0.028470</td>\n",
       "      <td>-1.756721</td>\n",
       "      <td>-0.793520</td>\n",
       "      <td>-0.052486</td>\n",
       "      <td>Argentina</td>\n",
       "      <td>0</td>\n",
       "      <td>14.5</td>\n",
       "      <td>18.9</td>\n",
       "      <td>8.10</td>\n",
       "      <td>16.0</td>\n",
       "      <td>18700</td>\n",
       "      <td>20.90</td>\n",
       "      <td>75.8</td>\n",
       "      <td>2.37</td>\n",
       "      <td>10300</td>\n",
       "    </tr>\n",
       "  </tbody>\n",
       "</table>\n",
       "</div>"
      ],
      "text/plain": [
       "        PC1       PC2       PC3       PC4              country  ClusterID  \\\n",
       "0 -2.913787  0.088354  0.721003  0.996699          Afghanistan          2   \n",
       "1  0.429358 -0.587859  0.321052 -1.171193              Albania          0   \n",
       "2 -0.282988 -0.446657 -1.225135 -0.850127              Algeria          0   \n",
       "3  1.031988  0.130488  0.192922 -0.844808  Antigua and Barbuda          1   \n",
       "4  0.028470 -1.756721 -0.793520 -0.052486            Argentina          0   \n",
       "\n",
       "   child_mort  exports  health  imports  income  inflation  life_expec  \\\n",
       "0        90.2     10.0    7.58     44.9    1610       9.44        56.2   \n",
       "1        16.6     28.0    6.55     48.6    9930       4.49        76.3   \n",
       "2        27.3     38.4    4.17     31.4   12900      16.10        76.5   \n",
       "3        10.3     45.5    6.03     58.9   19100       1.44        76.8   \n",
       "4        14.5     18.9    8.10     16.0   18700      20.90        75.8   \n",
       "\n",
       "   total_fer   gdpp  \n",
       "0       5.82    553  \n",
       "1       1.65   4090  \n",
       "2       2.89   4460  \n",
       "3       2.13  12200  \n",
       "4       2.37  10300  "
      ]
     },
     "execution_count": 74,
     "metadata": {},
     "output_type": "execute_result"
    }
   ],
   "source": [
    "#Our final dataframe obtaianed with our optimal model\n",
    "df_final2.head()"
   ]
  },
  {
   "cell_type": "code",
   "execution_count": 75,
   "metadata": {},
   "outputs": [
    {
     "data": {
      "text/html": [
       "<div>\n",
       "<style scoped>\n",
       "    .dataframe tbody tr th:only-of-type {\n",
       "        vertical-align: middle;\n",
       "    }\n",
       "\n",
       "    .dataframe tbody tr th {\n",
       "        vertical-align: top;\n",
       "    }\n",
       "\n",
       "    .dataframe thead th {\n",
       "        text-align: right;\n",
       "    }\n",
       "</style>\n",
       "<table border=\"1\" class=\"dataframe\">\n",
       "  <thead>\n",
       "    <tr style=\"text-align: right;\">\n",
       "      <th></th>\n",
       "      <th>ClusterID</th>\n",
       "      <th>child_mort</th>\n",
       "      <th>exports</th>\n",
       "      <th>health</th>\n",
       "      <th>imports</th>\n",
       "      <th>income</th>\n",
       "      <th>inflation</th>\n",
       "      <th>life_expec</th>\n",
       "      <th>total_fer</th>\n",
       "      <th>gdpp</th>\n",
       "    </tr>\n",
       "  </thead>\n",
       "  <tbody>\n",
       "    <tr>\n",
       "      <th>0</th>\n",
       "      <td>0</td>\n",
       "      <td>29.136364</td>\n",
       "      <td>36.165659</td>\n",
       "      <td>5.455455</td>\n",
       "      <td>42.271952</td>\n",
       "      <td>9612.727273</td>\n",
       "      <td>9.021500</td>\n",
       "      <td>71.218182</td>\n",
       "      <td>2.604545</td>\n",
       "      <td>4297.318182</td>\n",
       "    </tr>\n",
       "    <tr>\n",
       "      <th>1</th>\n",
       "      <td>1</td>\n",
       "      <td>7.928571</td>\n",
       "      <td>47.311429</td>\n",
       "      <td>8.142857</td>\n",
       "      <td>50.485714</td>\n",
       "      <td>23198.000000</td>\n",
       "      <td>2.331086</td>\n",
       "      <td>77.334286</td>\n",
       "      <td>1.753429</td>\n",
       "      <td>18304.857143</td>\n",
       "    </tr>\n",
       "    <tr>\n",
       "      <th>2</th>\n",
       "      <td>2</td>\n",
       "      <td>75.467857</td>\n",
       "      <td>28.553214</td>\n",
       "      <td>5.800714</td>\n",
       "      <td>39.150000</td>\n",
       "      <td>4060.642857</td>\n",
       "      <td>9.844107</td>\n",
       "      <td>60.925000</td>\n",
       "      <td>4.698929</td>\n",
       "      <td>1980.357143</td>\n",
       "    </tr>\n",
       "  </tbody>\n",
       "</table>\n",
       "</div>"
      ],
      "text/plain": [
       "   ClusterID  child_mort    exports    health    imports        income  \\\n",
       "0          0   29.136364  36.165659  5.455455  42.271952   9612.727273   \n",
       "1          1    7.928571  47.311429  8.142857  50.485714  23198.000000   \n",
       "2          2   75.467857  28.553214  5.800714  39.150000   4060.642857   \n",
       "\n",
       "   inflation  life_expec  total_fer          gdpp  \n",
       "0   9.021500   71.218182   2.604545   4297.318182  \n",
       "1   2.331086   77.334286   1.753429  18304.857143  \n",
       "2   9.844107   60.925000   4.698929   1980.357143  "
      ]
     },
     "execution_count": 75,
     "metadata": {},
     "output_type": "execute_result"
    }
   ],
   "source": [
    "#let us once again see the mean values in the clusters in this model\n",
    "df_means_km2"
   ]
  },
  {
   "cell_type": "markdown",
   "metadata": {},
   "source": [
    "Here we can see that that cluster that should be aided will be cluster - 2 with high child_mort, low income and low gdpp"
   ]
  },
  {
   "cell_type": "markdown",
   "metadata": {},
   "source": [
    "WE have already some visualizions above"
   ]
  },
  {
   "cell_type": "code",
   "execution_count": 76,
   "metadata": {
    "scrolled": true
   },
   "outputs": [
    {
     "name": "stdout",
     "output_type": "stream",
     "text": [
      "['Afghanistan', 'Benin', 'Botswana', 'Cameroon', 'Comoros', \"Cote d'Ivoire\", 'Eritrea', 'Gabon', 'Gambia', 'Ghana', 'Guinea', 'Iraq', 'Kenya', 'Lao', 'Madagascar', 'Malawi', 'Mozambique', 'Namibia', 'Pakistan', 'Senegal', 'Solomon Islands', 'South Africa', 'Sudan', 'Tanzania', 'Timor-Leste', 'Togo', 'Yemen', 'Zambia']\n"
     ]
    }
   ],
   "source": [
    "#Final list of countries which the government should aid\n",
    "countries_Cluster2 = list(df_final2['country'][df_final2.ClusterID==2])\n",
    "print(countries_Cluster2)"
   ]
  },
  {
   "cell_type": "code",
   "execution_count": 77,
   "metadata": {},
   "outputs": [
    {
     "data": {
      "text/plain": [
       "28"
      ]
     },
     "execution_count": 77,
     "metadata": {},
     "output_type": "execute_result"
    }
   ],
   "source": [
    "len(countries_Cluster2)"
   ]
  },
  {
   "cell_type": "markdown",
   "metadata": {},
   "source": [
    "If the Govt cannot aid all 28 countries,Let us suggest the govt the countries which need their aid the most.\n",
    "\n",
    "Now looking at the mean values, let's get the countries that are in the worst shape"
   ]
  },
  {
   "cell_type": "code",
   "execution_count": 78,
   "metadata": {},
   "outputs": [
    {
     "data": {
      "text/plain": [
       "['Afghanistan',\n",
       " 'Benin',\n",
       " 'Cameroon',\n",
       " 'Comoros',\n",
       " \"Cote d'Ivoire\",\n",
       " 'Gambia',\n",
       " 'Guinea',\n",
       " 'Lao',\n",
       " 'Malawi',\n",
       " 'Mozambique',\n",
       " 'Sudan',\n",
       " 'Togo',\n",
       " 'Zambia']"
      ]
     },
     "execution_count": 78,
     "metadata": {},
     "output_type": "execute_result"
    }
   ],
   "source": [
    "#Taking the mean values as measures\n",
    "#Basically using the binning concept and getting the final list of countries\n",
    "countries_help=list(df_final2[(df_final2.child_mort > 75) & (df_final2.gdpp < 1980) & (df_final2.income < 4060)]['country'])\n",
    "countries_help"
   ]
  },
  {
   "cell_type": "markdown",
   "metadata": {},
   "source": [
    "### Mainly these 13 countries should be focused on by the Govt. "
   ]
  },
  {
   "cell_type": "markdown",
   "metadata": {},
   "source": [
    "NOTE: We had discarded the outliers completely"
   ]
  },
  {
   "cell_type": "code",
   "execution_count": 79,
   "metadata": {},
   "outputs": [
    {
     "name": "stdout",
     "output_type": "stream",
     "text": [
      "['Angola', 'Armenia', 'Australia', 'Austria', 'Belgium', 'Bosnia and Herzegovina', 'Brazil', 'Brunei', 'Burkina Faso', 'Burundi', 'Canada', 'Cape Verde', 'Central African Republic', 'Chad', 'China', 'Colombia', 'Congo, Dem. Rep.', 'Congo, Rep.', 'Denmark', 'Equatorial Guinea', 'France', 'Guinea-Bissau', 'Haiti', 'Ireland', 'Italy', 'Jamaica', 'Japan', 'Kiribati', 'Kuwait', 'Lesotho', 'Liberia', 'Luxembourg', 'Malaysia', 'Mali', 'Malta', 'Mauritania', 'Micronesia, Fed. Sts.', 'Moldova', 'Netherlands', 'Niger', 'Nigeria', 'Norway', 'Oman', 'Qatar', 'Rwanda', 'Saudi Arabia', 'Seychelles', 'Sierra Leone', 'Singapore', 'Spain', 'Sri Lanka', 'St. Vincent and the Grenadines', 'Sweden', 'Switzerland', 'Thailand', 'Uganda', 'United Arab Emirates', 'United States', 'Venezuela', 'Vietnam']\n"
     ]
    }
   ],
   "source": [
    "#Let us see which countries were dropped.\n",
    "l1=list(country_df.country)\n",
    "l2=list(df_final2.country)\n",
    "out_count=[x for x in l1 if x not in l2]\n",
    "print(out_count)"
   ]
  },
  {
   "cell_type": "markdown",
   "metadata": {},
   "source": [
    "These countries were removed during outlier treatment"
   ]
  },
  {
   "cell_type": "code",
   "execution_count": 80,
   "metadata": {},
   "outputs": [],
   "source": [
    "#Let us get the dataframe consisting of these countries from the original datframe\n",
    "out_df=country_df[country_df.country.isin(out_count)]"
   ]
  },
  {
   "cell_type": "code",
   "execution_count": 81,
   "metadata": {},
   "outputs": [
    {
     "data": {
      "text/html": [
       "<div>\n",
       "<style scoped>\n",
       "    .dataframe tbody tr th:only-of-type {\n",
       "        vertical-align: middle;\n",
       "    }\n",
       "\n",
       "    .dataframe tbody tr th {\n",
       "        vertical-align: top;\n",
       "    }\n",
       "\n",
       "    .dataframe thead th {\n",
       "        text-align: right;\n",
       "    }\n",
       "</style>\n",
       "<table border=\"1\" class=\"dataframe\">\n",
       "  <thead>\n",
       "    <tr style=\"text-align: right;\">\n",
       "      <th></th>\n",
       "      <th>country</th>\n",
       "      <th>child_mort</th>\n",
       "      <th>exports</th>\n",
       "      <th>health</th>\n",
       "      <th>imports</th>\n",
       "      <th>income</th>\n",
       "      <th>inflation</th>\n",
       "      <th>life_expec</th>\n",
       "      <th>total_fer</th>\n",
       "      <th>gdpp</th>\n",
       "    </tr>\n",
       "  </thead>\n",
       "  <tbody>\n",
       "    <tr>\n",
       "      <th>3</th>\n",
       "      <td>Angola</td>\n",
       "      <td>119.0</td>\n",
       "      <td>62.3</td>\n",
       "      <td>2.85</td>\n",
       "      <td>42.9</td>\n",
       "      <td>5900</td>\n",
       "      <td>22.400</td>\n",
       "      <td>60.1</td>\n",
       "      <td>6.16</td>\n",
       "      <td>3530</td>\n",
       "    </tr>\n",
       "    <tr>\n",
       "      <th>6</th>\n",
       "      <td>Armenia</td>\n",
       "      <td>18.1</td>\n",
       "      <td>20.8</td>\n",
       "      <td>4.40</td>\n",
       "      <td>45.3</td>\n",
       "      <td>6700</td>\n",
       "      <td>7.770</td>\n",
       "      <td>73.3</td>\n",
       "      <td>1.69</td>\n",
       "      <td>3220</td>\n",
       "    </tr>\n",
       "    <tr>\n",
       "      <th>7</th>\n",
       "      <td>Australia</td>\n",
       "      <td>4.8</td>\n",
       "      <td>19.8</td>\n",
       "      <td>8.73</td>\n",
       "      <td>20.9</td>\n",
       "      <td>41400</td>\n",
       "      <td>1.160</td>\n",
       "      <td>82.0</td>\n",
       "      <td>1.93</td>\n",
       "      <td>51900</td>\n",
       "    </tr>\n",
       "    <tr>\n",
       "      <th>8</th>\n",
       "      <td>Austria</td>\n",
       "      <td>4.3</td>\n",
       "      <td>51.3</td>\n",
       "      <td>11.00</td>\n",
       "      <td>47.8</td>\n",
       "      <td>43200</td>\n",
       "      <td>0.873</td>\n",
       "      <td>80.5</td>\n",
       "      <td>1.44</td>\n",
       "      <td>46900</td>\n",
       "    </tr>\n",
       "    <tr>\n",
       "      <th>15</th>\n",
       "      <td>Belgium</td>\n",
       "      <td>4.5</td>\n",
       "      <td>76.4</td>\n",
       "      <td>10.70</td>\n",
       "      <td>74.7</td>\n",
       "      <td>41100</td>\n",
       "      <td>1.880</td>\n",
       "      <td>80.0</td>\n",
       "      <td>1.86</td>\n",
       "      <td>44400</td>\n",
       "    </tr>\n",
       "  </tbody>\n",
       "</table>\n",
       "</div>"
      ],
      "text/plain": [
       "      country  child_mort  exports  health  imports  income  inflation  \\\n",
       "3      Angola       119.0     62.3    2.85     42.9    5900     22.400   \n",
       "6     Armenia        18.1     20.8    4.40     45.3    6700      7.770   \n",
       "7   Australia         4.8     19.8    8.73     20.9   41400      1.160   \n",
       "8     Austria         4.3     51.3   11.00     47.8   43200      0.873   \n",
       "15    Belgium         4.5     76.4   10.70     74.7   41100      1.880   \n",
       "\n",
       "    life_expec  total_fer   gdpp  \n",
       "3         60.1       6.16   3530  \n",
       "6         73.3       1.69   3220  \n",
       "7         82.0       1.93  51900  \n",
       "8         80.5       1.44  46900  \n",
       "15        80.0       1.86  44400  "
      ]
     },
     "execution_count": 81,
     "metadata": {},
     "output_type": "execute_result"
    }
   ],
   "source": [
    "out_df.head()"
   ]
  },
  {
   "cell_type": "code",
   "execution_count": 82,
   "metadata": {},
   "outputs": [
    {
     "data": {
      "text/plain": [
       "<matplotlib.axes._subplots.AxesSubplot at 0x13a0f2882b0>"
      ]
     },
     "execution_count": 82,
     "metadata": {},
     "output_type": "execute_result"
    },
    {
     "data": {
      "image/png": "[encoded data removed]",
      "text/plain": [
       "<Figure size 432x288 with 1 Axes>"
      ]
     },
     "metadata": {},
     "output_type": "display_data"
    }
   ],
   "source": [
    "sns.scatterplot(x='child_mort',y='gdpp',legend='full',data=out_df)"
   ]
  },
  {
   "cell_type": "markdown",
   "metadata": {},
   "source": [
    "If we want to merge these outliers with the clusters formed,\n",
    "we can do that by putting them into a cluster whose mean value(Cluster centroid) is nearest to it (Euclidean distance)\n",
    "But we are not going to do that and simply discard these outliers here."
   ]
  }
 ],
 "metadata": {
  "kernelspec": {
   "display_name": "Python 3",
   "language": "python",
   "name": "python3"
  },
  "language_info": {
   "codemirror_mode": {
    "name": "ipython",
    "version": 3
   },
   "file_extension": ".py",
   "mimetype": "text/x-python",
   "name": "python",
   "nbconvert_exporter": "python",
   "pygments_lexer": "ipython3",
   "version": "3.6.5"
  }
 },
 "nbformat": 4,
 "nbformat_minor": 2
}
